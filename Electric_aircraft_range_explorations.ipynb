{
  "cells": [
    {
      "cell_type": "markdown",
      "metadata": {
        "id": "view-in-github",
        "colab_type": "text"
      },
      "source": [
        "<a href=\"https://colab.research.google.com/github/jimtoberfest/eVTOL/blob/main/Electric_aircraft_range_explorations.ipynb\" target=\"_parent\"><img src=\"https://colab.research.google.com/assets/colab-badge.svg\" alt=\"Open In Colab\"/></a>"
      ]
    },
    {
      "cell_type": "markdown",
      "metadata": {
        "id": "uQ3vFqsRMA50"
      },
      "source": [
        "# Imports and Functions"
      ]
    },
    {
      "cell_type": "code",
      "execution_count": 1,
      "metadata": {
        "id": "Rt_bDImjL8py"
      },
      "outputs": [],
      "source": [
        "import pandas as pd\n",
        "import numpy as np\n",
        "import matplotlib.pyplot as plt"
      ]
    },
    {
      "cell_type": "code",
      "execution_count": 2,
      "metadata": {
        "id": "UP73z7aZJmdd"
      },
      "outputs": [],
      "source": [
        "def electric_range(eff_motor, eff_prop, ld, e_batt, w_batt, w_oe, w_pl, g=9.81, eff_batt = .7):\n",
        "    '''\n",
        "    Equation based on Breguet Range Equation, modified for electric propulsion.\n",
        "    \n",
        "    Constants:\n",
        "    Gravity(g) based on earth, but no reason other celestial bodies could not be simulated such as:\n",
        "         Mars, Titan, Venus, etc...\n",
        "    eff_bat represents the real life usable percentage of a battery powered system with longevity in mind,\n",
        "         this is based off a simple hueristic of EV car owners and multicopter experience.\n",
        "\n",
        "    '''\n",
        "\n",
        "\n",
        "\n",
        "    eff_propulsion = eff_motor * eff_prop\n",
        "    batt_j = e_batt * 3600\n",
        "    mass_frac = ((w_batt * g) / ((w_oe * g) + (w_pl * g) + (w_batt * g)))\n",
        "    total_weight = (w_batt + w_oe + w_pl)\n",
        "    batt_factor = batt_j / g\n",
        "    \n",
        "    y = eff_propulsion * ld * (batt_j / g) * mass_frac\n",
        "    y = y / 1000\n",
        "    \n",
        "    x = eff_motor * eff_prop * ld * ((e_batt * 3600)/g) * (w_batt / (w_oe + w_pl + w_batt))\n",
        "    x = x / 1000\n",
        "    \n",
        "    y_miles = y * .621\n",
        "    y_miles_real = y_miles * eff_batt\n",
        "    \n",
        "    return y_miles_real\n",
        "    \n",
        "#     return y_miles_real, y_miles , x, y, eff_propulsion, batt_j, mass_frac, total_weight, batt_factor"
      ]
    },
    {
      "cell_type": "markdown",
      "metadata": {
        "id": "1aBDEu-7MH9C"
      },
      "source": [
        "# Joby Aircraft as a test exploration"
      ]
    },
    {
      "cell_type": "code",
      "execution_count": 3,
      "metadata": {
        "colab": {
          "base_uri": "https://localhost:8080/",
          "height": 0
        },
        "id": "kmAjPpYmJpRx",
        "outputId": "ec83db35-79d1-4b6a-a9d2-74f864d70e1f"
      },
      "outputs": [
        {
          "output_type": "stream",
          "name": "stdout",
          "text": [
            "(886.3636363636363, 214.17150550458715, 2272.7272727272725, 0.39, 199.43181818181816) \n",
            "\n",
            "batt_mass:  886.36\n",
            "Range (mi):  214.17\n",
            "Gross_wt (kg):  2272.73\n",
            "Batt_mass_fraction:  0.39\n",
            "batt_kWh:  199.43\n"
          ]
        },
        {
          "output_type": "display_data",
          "data": {
            "image/png": "[encoded data removed]",
            "text/plain": [
              "<Figure size 432x288 with 1 Axes>"
            ]
          },
          "metadata": {
            "needs_background": "light"
          }
        }
      ],
      "source": [
        "#JOBY, Mass fractions exploration\n",
        "\n",
        "fractions = np.arange(.01, .40, .01)\n",
        "\n",
        "e_m = .9\n",
        "e_p = .85\n",
        "ld = 20\n",
        "e_batt = 225\n",
        "payload = (100 * 5)\n",
        "\n",
        "MTOW = (5000/2.2) #5,000 lbs to KG\n",
        "\n",
        "w_test1 = MTOW * fractions[0]\n",
        "\n",
        "ranges = []\n",
        "\n",
        "for fraction in fractions:\n",
        "    w_batt = MTOW * fraction\n",
        "    w_empty = MTOW - payload - w_batt\n",
        "\n",
        "    y = electric_range(e_m, e_p, ld, e_batt, w_batt, w_empty, payload)\n",
        "    \n",
        "    ranges.append((w_batt, y, (w_empty + w_batt + payload), fraction, (w_batt * e_batt) / 1000))\n",
        "\n",
        "print(ranges[-1],\"\\n\")\n",
        "\n",
        "x_val  = [x[0] for x in ranges]\n",
        "y_val  = [x[1] for x in ranges]\n",
        "y2_val = [x[2] for x in ranges]\n",
        "\n",
        "plt.plot(x_val,y_val)\n",
        "plt.plot(x_val,y_val,'*r')\n",
        "plt.title('JOBY\\n batt_mass (kg) vs Range (mi), Li-ION')\n",
        "plt.ylabel('miles')\n",
        "plt.xlabel('batt_mass (kg)')\n",
        "plt.grid()\n",
        "\n",
        "labels = ['batt_mass: ', 'Range (mi): ', 'Gross_wt (kg): ', 'Batt_mass_fraction: ', 'batt_kWh: ']\n",
        "\n",
        "for x in range(len(labels)):\n",
        "    print(labels[x],(f\"{ranges[-1][x]:.2f}\"))\n"
      ]
    },
    {
      "cell_type": "code",
      "execution_count": 4,
      "metadata": {
        "colab": {
          "base_uri": "https://localhost:8080/",
          "height": 0
        },
        "id": "YEmjTjr2Jpsd",
        "outputId": "0e01e567-9fdf-418d-9f25-6c8c2268197e"
      },
      "outputs": [
        {
          "output_type": "display_data",
          "data": {
            "image/png": "[encoded data removed]",
            "text/plain": [
              "<Figure size 432x288 with 1 Axes>"
            ]
          },
          "metadata": {
            "needs_background": "light"
          }
        }
      ],
      "source": [
        "# JOBY 2, L/D Exploration\n",
        "\n",
        "\n",
        "ld_s = np.arange(4, 21, 1)\n",
        "\n",
        "\n",
        "\n",
        "e_m = .9\n",
        "e_p = .85\n",
        "ld = 20\n",
        "e_batt = 225\n",
        "payload = (100 * 5)\n",
        "\n",
        "MTOW = (5000/2.2) #5,000 lbs to KG\n",
        "\n",
        "w_test1 = MTOW * fractions[0]\n",
        "\n",
        "w_batt = MTOW * .4\n",
        "w_empty = MTOW - payload - w_batt\n",
        "\n",
        "ranges = []\n",
        "\n",
        "for i in ld_s:\n",
        "    y = electric_range(e_m, e_p, i, e_batt, w_batt, w_empty, payload)\n",
        "\n",
        "    ranges.append((i, y))\n",
        "ld_s\n",
        "\n",
        "x_val = [x[0] for x in ranges]\n",
        "y_val = [x[1] for x in ranges]\n",
        "\n",
        "\n",
        "plt.plot(x_val,y_val)\n",
        "plt.plot(x_val,y_val,'or')\n",
        "plt.title(\"\\nJOBY L/D Exploration\\n\")\n",
        "plt.xlabel(\"Lift to Drag Ratio, Cruising Flight\")\n",
        "plt.ylabel(\"Range (miles)\")\n",
        "plt.grid()"
      ]
    },
    {
      "cell_type": "markdown",
      "metadata": {
        "id": "UBYu-No7MTum"
      },
      "source": [
        "# Microlights, Theoretical Electric Conversions"
      ]
    },
    {
      "cell_type": "code",
      "execution_count": 5,
      "metadata": {
        "colab": {
          "base_uri": "https://localhost:8080/",
          "height": 0
        },
        "id": "niJMgkAtJp5L",
        "outputId": "5d0e6cd2-3984-4712-b903-8e0158a3bf33"
      },
      "outputs": [
        {
          "output_type": "stream",
          "name": "stdout",
          "text": [
            "(34.70550000000001, 45.024212635035866, 218.7055, 0.15000000000000002, 5.205825000000001) \n",
            "\n",
            "batt_mass:  34.71\n",
            "Range (mi):  45.02\n",
            "Gross_wt (kg):  218.71\n",
            "Batt_mass_fraction:  0.15\n",
            "batt_kWh:  5.21\n"
          ]
        },
        {
          "output_type": "display_data",
          "data": {
            "image/png": "[encoded data removed]",
            "text/plain": [
              "<Figure size 432x288 with 1 Axes>"
            ]
          },
          "metadata": {
            "needs_background": "light"
          }
        }
      ],
      "source": [
        "# ATOS VQS 190 EGO TRIKE Modified...\n",
        "\n",
        "'''\n",
        "based on data from youtube video:  https://www.youtube.com/watch?v=0lg_3rU3K7M\n",
        "\n",
        "L/D moved down to 13 (from 16), climb L/D must be signifigantly below the max L/D and \n",
        "    the cruise speed is likely too low and/or the wing is too large for efficient cruise owing to the\n",
        "    fact the primary purpose is for termalling\n",
        "\n",
        "total batt_weight available is 34kg but it limits pilot weight to 95kg\n",
        "    seems to be Li-po batteries (150 wh/kg) circe 2016 and total range is 70km (~44mi).\n",
        "    100 min batter endurace @ cruise speed of 70 kph.\n",
        "    \n",
        "Switch to Li-Ion chemistry (225 wh/kg) would seemingly increase range 50% to ~70 miles...\n",
        "\n",
        "23 mph stall speed\n",
        "\n",
        "'''\n",
        "\n",
        "\n",
        "fractions = np.arange(.01, .40, .01)\n",
        "\n",
        "e_m = .9\n",
        "e_p = .85\n",
        "ld = 15.5\n",
        "e_batt = 150\n",
        "payload = (96)\n",
        "\n",
        "MTOW = (231.37) #5,000 lbs to KG\n",
        "\n",
        "w_test1 = MTOW * fractions[0]\n",
        "\n",
        "ranges = []\n",
        "\n",
        "for fraction in fractions:\n",
        "    w_batt = MTOW * fraction\n",
        "    w_empty = 45 + 43  #wing weight + trike empty weight, no batteries\n",
        "\n",
        "    if w_empty + w_batt + payload > (MTOW * .95):\n",
        "        break\n",
        "    else:\n",
        "        y = electric_range(e_m, e_p, ld, e_batt, w_batt, w_empty, payload)\n",
        "    \n",
        "        ranges.append((w_batt, y, (w_empty + w_batt + payload), fraction, (w_batt * e_batt) / 1000))\n",
        "\n",
        "print(ranges[-1],\"\\n\")\n",
        "\n",
        "x_val  = [x[0] for x in ranges]\n",
        "y_val  = [x[1] for x in ranges]\n",
        "y2_val = [x[2] for x in ranges]\n",
        "\n",
        "plt.plot(x_val,y_val)\n",
        "plt.plot(x_val,y_val,'*r')\n",
        "plt.title('ATOS VQS 190 EGO TRIKE Modified...\\n\\n batt_mass (kg) vs Range (mi), Li-ION')\n",
        "plt.ylabel('miles')\n",
        "plt.xlabel('batt_mass (kg)')\n",
        "plt.grid()\n",
        "\n",
        "labels = ['batt_mass: ', 'Range (mi): ', 'Gross_wt (kg): ', 'Batt_mass_fraction: ', 'batt_kWh: ']\n",
        "\n",
        "for x in range(len(labels)):\n",
        "    print(labels[x],(f\"{ranges[-1][x]:.2f}\"))"
      ]
    },
    {
      "cell_type": "code",
      "execution_count": 6,
      "metadata": {
        "colab": {
          "base_uri": "https://localhost:8080/",
          "height": 0
        },
        "id": "iL7su3zAJqGJ",
        "outputId": "46d0cc51-601b-4444-9b49-67737044f8c7"
      },
      "outputs": [
        {
          "output_type": "stream",
          "name": "stdout",
          "text": [
            "(60.15454545454545, 55.5229708954445, 218.15454545454546, 0.26, 9.023181818181818) \n",
            "\n",
            "batt_mass:  60.15\n",
            "Range (mi):  55.52\n",
            "Gross_wt (kg):  218.15\n",
            "Batt_mass_fraction:  0.26\n",
            "batt_kWh:  9.02\n"
          ]
        },
        {
          "output_type": "display_data",
          "data": {
            "image/png": "[encoded data removed]",
            "text/plain": [
              "<Figure size 432x288 with 1 Axes>"
            ]
          },
          "metadata": {
            "needs_background": "light"
          }
        }
      ],
      "source": [
        "# Wills Wing Falcon 3 with Carbon eHelp Modified to land heavy...verified via data from:\n",
        "# https://www.youtube.com/watch?v=kMv0oyVrDfs\n",
        "# This wing performs admirably compared to the much higher performance ATOS due primarily to reduced mass of no trike and wing itself\n",
        "# Landing with a 60 kg battery and no trike could be problematic and maybe it could be jettisoned before the landing approach to reduce risk.\n",
        "\n",
        "fractions = np.arange(.01, .40, .01)\n",
        "\n",
        "e_m = .9\n",
        "e_p = .85\n",
        "ld = 11\n",
        "e_batt = 150\n",
        "payload = (100)\n",
        "\n",
        "MTOW = (509/2.2) #5,000 lbs to KG\n",
        "\n",
        "w_test1 = MTOW * fractions[0]\n",
        "\n",
        "ranges = []\n",
        "\n",
        "for fraction in fractions:\n",
        "    w_batt = MTOW * fraction\n",
        "    w_empty = 32 + 14 + 12  #wing weight + Carbon_eHelp + harness\n",
        "\n",
        "    if w_empty + w_batt + payload > (MTOW * .95):\n",
        "        break\n",
        "    else:\n",
        "        y = electric_range(e_m, e_p, ld, e_batt, w_batt, w_empty, payload)\n",
        "    \n",
        "        ranges.append((w_batt, y, (w_empty + w_batt + payload), fraction, (w_batt * e_batt) / 1000))\n",
        "\n",
        "\n",
        "\n",
        "\n",
        "\n",
        "\n",
        "x_val  = [x[0] for x in ranges]\n",
        "y_val  = [x[1] for x in ranges]\n",
        "y2_val = [x[2] for x in ranges]\n",
        "\n",
        "plt.plot(x_val,y_val)\n",
        "plt.plot(x_val,y_val,'*r')\n",
        "plt.title('batt_mass (kg) vs Range (mi), Li-ION')\n",
        "plt.ylabel('miles')\n",
        "plt.xlabel('batt_mass (kg)')\n",
        "plt.grid()\n",
        "\n",
        "\n",
        "print(ranges[-1],\"\\n\")\n",
        "\n",
        "labels = ['batt_mass: ', 'Range (mi): ', 'Gross_wt (kg): ', 'Batt_mass_fraction: ', 'batt_kWh: ']\n",
        "\n",
        "for x in range(len(labels)):\n",
        "    print(labels[x],(f\"{ranges[-1][x]:.2f}\"))"
      ]
    },
    {
      "cell_type": "code",
      "execution_count": 7,
      "metadata": {
        "colab": {
          "base_uri": "https://localhost:8080/"
        },
        "id": "Rk_Iq1UjJqSn",
        "outputId": "71377a32-4560-4007-f936-87412d6c72fe"
      },
      "outputs": [
        {
          "output_type": "stream",
          "name": "stdout",
          "text": [
            "Range (miles): 5.73, batt_mass(kg): 4.63\n"
          ]
        }
      ],
      "source": [
        "# Similar numbers to video linked above\n",
        "\n",
        "\n",
        "a = ranges[1][1]\n",
        "b = ranges[1][0]\n",
        "print(f'Range (miles): {a:.2f}, batt_mass(kg): {b:.2f}')"
      ]
    },
    {
      "cell_type": "code",
      "execution_count": 8,
      "metadata": {
        "colab": {
          "base_uri": "https://localhost:8080/",
          "height": 0
        },
        "id": "izzncBwXJqe7",
        "outputId": "a19b2405-b973-46f8-c832-2374aeafda5c"
      },
      "outputs": [
        {
          "output_type": "stream",
          "name": "stdout",
          "text": [
            "(148.20000000000002, 37.39268187077562, 290.20000000000005, 0.39, 22.230000000000004) \n",
            "\n",
            "batt_mass:  148.20\n",
            "Range (mi):  37.39\n",
            "Gross_wt (kg):  290.20\n",
            "Batt_mass_fraction:  0.39\n",
            "batt_kWh:  22.23\n"
          ]
        },
        {
          "output_type": "display_data",
          "data": {
            "image/png": "[encoded data removed]",
            "text/plain": [
              "<Figure size 432x288 with 1 Axes>"
            ]
          },
          "metadata": {
            "needs_background": "light"
          }
        }
      ],
      "source": [
        "# Paramotor Trike with electric engine theoretical:\n",
        "# Small, lightweight, tubular and fabric strap trike, commonplace in the paramotor community\n",
        "# L/D numbers were hard to come by for these vehicles.  Takeoff and Landing rolls would be very long with added mass.\n",
        "\n",
        "\n",
        "fractions = np.arange(.01, .40, .01)\n",
        "\n",
        "e_m = .9\n",
        "e_p = .85\n",
        "ld = 4\n",
        "e_batt = 150\n",
        "payload = (100)\n",
        "\n",
        "MTOW = 380 \n",
        "\n",
        "w_test1 = MTOW * fractions[0]\n",
        "\n",
        "ranges = []\n",
        "\n",
        "for fraction in fractions:\n",
        "    w_batt = MTOW * fraction\n",
        "    w_empty = 15 + 15 + 12  #wing weight + trike weight + ePPG weight\n",
        "\n",
        "    if w_empty + w_batt + payload > (MTOW * .95):\n",
        "        break\n",
        "    else:\n",
        "        y = electric_range(e_m, e_p, ld, e_batt, w_batt, w_empty, payload)\n",
        "    \n",
        "        ranges.append((w_batt, y, (w_empty + w_batt + payload), fraction, (w_batt * e_batt) / 1000))\n",
        "\n",
        "\n",
        "\n",
        "\n",
        "\n",
        "\n",
        "x_val  = [x[0] for x in ranges]\n",
        "y_val  = [x[1] for x in ranges]\n",
        "y2_val = [x[2] for x in ranges]\n",
        "\n",
        "plt.plot(x_val,y_val)\n",
        "plt.plot(x_val,y_val,'*r')\n",
        "plt.title('batt_mass (kg) vs Range (mi), Li-ION')\n",
        "plt.ylabel('miles')\n",
        "plt.xlabel('batt_mass (kg)')\n",
        "plt.grid()\n",
        "\n",
        "\n",
        "print(ranges[-1],\"\\n\")\n",
        "\n",
        "labels = ['batt_mass: ', 'Range (mi): ', 'Gross_wt (kg): ', 'Batt_mass_fraction: ', 'batt_kWh: ']\n",
        "\n",
        "for x in range(len(labels)):\n",
        "    print(labels[x],(f\"{ranges[-1][x]:.2f}\"))"
      ]
    },
    {
      "cell_type": "markdown",
      "metadata": {
        "id": "hPyoF2iGMhGF"
      },
      "source": [
        "# Existing Aircraft, Conversions to EV"
      ]
    },
    {
      "cell_type": "code",
      "execution_count": 9,
      "metadata": {
        "colab": {
          "base_uri": "https://localhost:8080/",
          "height": 0
        },
        "id": "Ocvl-aXdJqrX",
        "outputId": "a86079b0-7d62-4a46-f6f6-5cbf02ca822a"
      },
      "outputs": [
        {
          "output_type": "stream",
          "name": "stdout",
          "text": [
            "572.25\n",
            "(144.24, 125.89971887694396, 566.24, 0.24000000000000002, 32.454) \n",
            "\n",
            "batt_mass:  144.24\n",
            "Range (mi):  125.90\n",
            "Gross_wt (kg):  566.24\n",
            "Batt_mass_fraction:  0.24\n",
            "batt_kWh:  32.45\n"
          ]
        },
        {
          "output_type": "display_data",
          "data": {
            "image/png": "[encoded data removed]",
            "text/plain": [
              "<Figure size 432x288 with 1 Axes>"
            ]
          },
          "metadata": {
            "needs_background": "light"
          }
        }
      ],
      "source": [
        "# Rutan Long-EZ, Mass fractions exploration, one passenger\n",
        "\n",
        "fractions = np.arange(.01, .40, .01)\n",
        "\n",
        "e_m = .9\n",
        "e_p = .85\n",
        "ld = 18\n",
        "e_batt = 225\n",
        "payload = (100 * 1)\n",
        "\n",
        "MTOW = (601.0) # KG\n",
        "\n",
        "w_test1 = MTOW * fractions[0]\n",
        "\n",
        "ranges = []\n",
        "\n",
        "for fraction in fractions:\n",
        "    w_batt = MTOW * fraction\n",
        "    w_empty = 322\n",
        "\n",
        "    if w_empty + w_batt + payload > (MTOW * .95):\n",
        "        print(w_empty + w_batt + payload)\n",
        "        break\n",
        "    else:\n",
        "        y = electric_range(e_m, e_p, ld, e_batt, w_batt, w_empty, payload)\n",
        "        ranges.append((w_batt, y, (w_empty + w_batt + payload), fraction, (w_batt * e_batt) / 1000))\n",
        "\n",
        "\n",
        "x_val  = [x[0] for x in ranges]\n",
        "y_val  = [x[1] for x in ranges]\n",
        "y2_val = [x[2] for x in ranges]\n",
        "\n",
        "plt.plot(x_val,y_val)\n",
        "plt.plot(x_val,y_val,'*r')\n",
        "plt.title('batt_mass (kg) vs Range (mi), Li-ION')\n",
        "plt.ylabel('miles')\n",
        "plt.xlabel('batt_mass (kg)')\n",
        "plt.grid()\n",
        "\n",
        "\n",
        "print(ranges[-1],\"\\n\")\n",
        "\n",
        "labels = ['batt_mass: ', 'Range (mi): ', 'Gross_wt (kg): ', 'Batt_mass_fraction: ', 'batt_kWh: ']\n",
        "\n",
        "for x in range(len(labels)):\n",
        "    print(labels[x],(f\"{ranges[-1][x]:.2f}\"))"
      ]
    },
    {
      "cell_type": "code",
      "execution_count": 10,
      "metadata": {
        "colab": {
          "base_uri": "https://localhost:8080/",
          "height": 0
        },
        "id": "eWt4LqKLJq40",
        "outputId": "f18eae59-e9eb-41cc-da8e-0d73097060cd"
      },
      "outputs": [
        {
          "output_type": "stream",
          "name": "stdout",
          "text": [
            "520.12\n",
            "(119.68, 63.848599425455795, 514.6800000000001, 0.22, 26.928) \n",
            "\n",
            "batt_mass:  119.68\n",
            "Range (mi):  63.85\n",
            "Gross_wt (kg):  514.68\n",
            "Batt_mass_fraction:  0.22\n",
            "batt_kWh:  26.93\n"
          ]
        },
        {
          "output_type": "display_data",
          "data": {
            "image/png": "[encoded data removed]",
            "text/plain": [
              "<Figure size 432x288 with 1 Axes>"
            ]
          },
          "metadata": {
            "needs_background": "light"
          }
        }
      ],
      "source": [
        "# Kitfox, Mass fractions exploration, one passenger\n",
        "\n",
        "fractions = np.arange(.01, .40, .01)\n",
        "\n",
        "e_m = .9\n",
        "e_p = .85\n",
        "ld = 10\n",
        "e_batt = 225\n",
        "payload = (100 * 1)\n",
        "\n",
        "MTOW = (544.0) # KG\n",
        "\n",
        "w_test1 = MTOW * fractions[0]\n",
        "\n",
        "ranges = []\n",
        "\n",
        "for fraction in fractions:\n",
        "    w_batt = MTOW * fraction\n",
        "    w_empty = 295\n",
        "\n",
        "    if w_empty + w_batt + payload > (MTOW * .95):\n",
        "        print(w_empty + w_batt + payload)\n",
        "        break\n",
        "    else:\n",
        "        y = electric_range(e_m, e_p, ld, e_batt, w_batt, w_empty, payload)\n",
        "        ranges.append((w_batt, y, (w_empty + w_batt + payload), fraction, (w_batt * e_batt) / 1000))\n",
        "\n",
        "\n",
        "x_val  = [x[0] for x in ranges]\n",
        "y_val  = [x[1] for x in ranges]\n",
        "y2_val = [x[2] for x in ranges]\n",
        "\n",
        "plt.plot(x_val,y_val)\n",
        "plt.plot(x_val,y_val,'*r')\n",
        "plt.title('batt_mass (kg) vs Range (mi), Li-ION')\n",
        "plt.ylabel('miles')\n",
        "plt.xlabel('batt_mass (kg)')\n",
        "plt.grid()\n",
        "\n",
        "\n",
        "print(ranges[-1],\"\\n\")\n",
        "\n",
        "labels = ['batt_mass: ', 'Range (mi): ', 'Gross_wt (kg): ', 'Batt_mass_fraction: ', 'batt_kWh: ']\n",
        "\n",
        "for x in range(len(labels)):\n",
        "    print(labels[x],(f\"{ranges[-1][x]:.2f}\"))"
      ]
    },
    {
      "cell_type": "code",
      "execution_count": 11,
      "metadata": {
        "colab": {
          "base_uri": "https://localhost:8080/",
          "height": 0
        },
        "id": "uDwbg1izJrF6",
        "outputId": "7ed9cc20-9ef5-4be4-f9a8-e6a5b03315dd"
      },
      "outputs": [
        {
          "output_type": "stream",
          "name": "stdout",
          "text": [
            "2254.4300000000003\n",
            "(231.29999999999998, 21.34745061658218, 2231.3, 0.09999999999999999, 52.04249999999999) \n",
            "\n",
            "batt_mass:  231.30\n",
            "Range (mi):  21.35\n",
            "Gross_wt (kg):  2231.30\n",
            "Batt_mass_fraction:  0.10\n",
            "batt_kWh:  52.04\n"
          ]
        },
        {
          "output_type": "display_data",
          "data": {
            "image/png": "[encoded data removed]",
            "text/plain": [
              "<Figure size 432x288 with 1 Axes>"
            ]
          },
          "metadata": {
            "needs_background": "light"
          }
        }
      ],
      "source": [
        "# Harbour Air Beaver Float Plane, Mass fractions exploration,with floats\n",
        "# Could not find actual range information on these flights...need to do more searching\n",
        "# Seems like potential farthest flight between bases could be 55 miles, need to do more route research\n",
        "\n",
        "\n",
        "fractions = np.arange(.01, .40, .01)\n",
        "\n",
        "e_m = .9\n",
        "e_p = .85\n",
        "ld = 7.5\n",
        "e_batt = 225\n",
        "payload = (100 * 5)\n",
        "\n",
        "MTOW = (2313.0) # KG\n",
        "\n",
        "w_test1 = MTOW * fractions[0]\n",
        "\n",
        "ranges = []\n",
        "\n",
        "for fraction in fractions:\n",
        "    w_batt = MTOW * fraction\n",
        "    w_empty = 1500  #KG\n",
        "\n",
        "    if w_empty + w_batt + payload > (MTOW * .97):\n",
        "        print(w_empty + w_batt + payload)\n",
        "        break\n",
        "    else:\n",
        "        y = electric_range(e_m, e_p, ld, e_batt, w_batt, w_empty, payload)\n",
        "        ranges.append((w_batt, y, (w_empty + w_batt + payload), fraction, (w_batt * e_batt) / 1000))\n",
        "\n",
        "\n",
        "x_val  = [x[0] for x in ranges]\n",
        "y_val  = [x[1] for x in ranges]\n",
        "y2_val = [x[2] for x in ranges]\n",
        "\n",
        "plt.plot(x_val,y_val)\n",
        "plt.plot(x_val,y_val,'*r')\n",
        "plt.title('batt_mass (kg) vs Range (mi), Li-ION')\n",
        "plt.ylabel('miles')\n",
        "plt.xlabel('batt_mass (kg)')\n",
        "plt.grid()\n",
        "\n",
        "\n",
        "print(ranges[-1],\"\\n\")\n",
        "\n",
        "labels = ['batt_mass: ', 'Range (mi): ', 'Gross_wt (kg): ', 'Batt_mass_fraction: ', 'batt_kWh: ']\n",
        "\n",
        "for x in range(len(labels)):\n",
        "    print(labels[x],(f\"{ranges[-1][x]:.2f}\"))"
      ]
    },
    {
      "cell_type": "code",
      "execution_count": 12,
      "metadata": {
        "colab": {
          "base_uri": "https://localhost:8080/",
          "height": 0
        },
        "id": "o4JOfa6zKLWd",
        "outputId": "abcab780-2fee-4ba6-deb4-fc1ec318ccd3"
      },
      "outputs": [
        {
          "output_type": "stream",
          "name": "stdout",
          "text": [
            "320.5454545454545\n",
            "(73.99999999999999, 38.4363175432092, 317.18181818181813, 0.22, 16.649999999999995) \n",
            "\n",
            "batt_mass:  74.00\n",
            "Range (mi):  38.44\n",
            "Gross_wt (kg):  317.18\n",
            "Batt_mass_fraction:  0.22\n",
            "batt_kWh:  16.65\n"
          ]
        },
        {
          "output_type": "display_data",
          "data": {
            "image/png": "[encoded data removed]",
            "text/plain": [
              "<Figure size 432x288 with 1 Axes>"
            ]
          },
          "metadata": {
            "needs_background": "light"
          }
        }
      ],
      "source": [
        "# Facetmobile, Mass fractions exploration\n",
        "# Exploring facetmobile as it has a terrible L/D ratio but a good useful load to gross weight ratio lending to better mass fractions potentially\n",
        "\n",
        "fractions = np.arange(.01, .40, .01)\n",
        "\n",
        "e_m = .9\n",
        "e_p = .85\n",
        "ld = 6\n",
        "e_batt = 225\n",
        "payload = (100 * 1)\n",
        "\n",
        "MTOW = (740.0 / 2.2) # KG\n",
        "\n",
        "w_test1 = MTOW * fractions[0]\n",
        "\n",
        "ranges = []\n",
        "\n",
        "for fraction in fractions:\n",
        "    w_batt = MTOW * fraction\n",
        "    w_empty = (315 / 2.2)\n",
        "\n",
        "    if w_empty + w_batt + payload > (MTOW * .95):\n",
        "        print(w_empty + w_batt + payload)\n",
        "        break\n",
        "    else:\n",
        "        y = electric_range(e_m, e_p, ld, e_batt, w_batt, w_empty, payload)\n",
        "        ranges.append((w_batt, y, (w_empty + w_batt + payload), fraction, (w_batt * e_batt) / 1000))\n",
        "\n",
        "\n",
        "x_val  = [x[0] for x in ranges]\n",
        "y_val  = [x[1] for x in ranges]\n",
        "y2_val = [x[2] for x in ranges]\n",
        "\n",
        "plt.plot(x_val,y_val)\n",
        "plt.plot(x_val,y_val,'*r')\n",
        "plt.title('batt_mass (kg) vs Range (mi), Li-ION')\n",
        "plt.ylabel('miles')\n",
        "plt.xlabel('batt_mass (kg)')\n",
        "plt.grid()\n",
        "\n",
        "\n",
        "print(ranges[-1],\"\\n\")\n",
        "\n",
        "labels = ['batt_mass: ', 'Range (mi): ', 'Gross_wt (kg): ', 'Batt_mass_fraction: ', 'batt_kWh: ']\n",
        "\n",
        "for x in range(len(labels)):\n",
        "    print(labels[x],(f\"{ranges[-1][x]:.2f}\"))"
      ]
    },
    {
      "cell_type": "code",
      "execution_count": 13,
      "metadata": {
        "id": "OwfJQborKLnC"
      },
      "outputs": [],
      "source": [
        "# Cessna 152 Conversion\n",
        "# Use it to compare to the facetmobile"
      ]
    },
    {
      "cell_type": "markdown",
      "metadata": {
        "id": "2X8S9pLCMsEo"
      },
      "source": [
        "# Manned Multirotors"
      ]
    },
    {
      "cell_type": "code",
      "execution_count": 14,
      "metadata": {
        "colab": {
          "base_uri": "https://localhost:8080/",
          "height": 0
        },
        "id": "2yhNgfkkKL5n",
        "outputId": "1e6b9875-61e6-4f04-806c-c031c968eefa"
      },
      "outputs": [
        {
          "output_type": "stream",
          "name": "stdout",
          "text": [
            "338.0\n",
            "(64.6, 10.602387278799277, 334.6, 0.19, 9.69) \n",
            "\n",
            "batt_mass:  64.60\n",
            "Range (mi):  10.60\n",
            "Gross_wt (kg):  334.60\n",
            "Batt_mass_fraction:  0.19\n",
            "batt_kWh:  9.69\n"
          ]
        },
        {
          "output_type": "display_data",
          "data": {
            "image/png": "[encoded data removed]",
            "text/plain": [
              "<Figure size 432x288 with 1 Axes>"
            ]
          },
          "metadata": {
            "needs_background": "light"
          }
        }
      ],
      "source": [
        "# Ehang 184, https://en.wikipedia.org/wiki/EHang#Ehang_184\n",
        "\n",
        "fractions = np.arange(.01, .40, .01)\n",
        "\n",
        "e_m = .9\n",
        "e_p = .85\n",
        "ld = 3  # This seems very high l/d for multicopter, real numbers probably closer to 2-3 at best\n",
        "e_batt = 150\n",
        "payload = (100 * 1)\n",
        "\n",
        "MTOW = (748 / 2.2) # KG\n",
        "\n",
        "w_test1 = MTOW * fractions[0]\n",
        "\n",
        "ranges = []\n",
        "\n",
        "for fraction in fractions:\n",
        "    w_batt = MTOW * fraction\n",
        "    w_empty = ((748/2)/2.2)  #KG\n",
        "\n",
        "    if w_empty + w_batt + payload > (MTOW * .99):\n",
        "        print(w_empty + w_batt + payload)\n",
        "        break\n",
        "    else:\n",
        "        y = electric_range(e_m, e_p, ld, e_batt, w_batt, w_empty, payload)\n",
        "        ranges.append((w_batt, y, (w_empty + w_batt + payload), fraction, (w_batt * e_batt) / 1000))\n",
        "\n",
        "\n",
        "batt_mass  = [x[0] for x in ranges]\n",
        "miles  = [x[1] for x in ranges]\n",
        "TOW = [x[2] for x in ranges]\n",
        "fractional_weight = [x[3] for x in ranges]\n",
        "\n",
        "plt.plot(batt_mass,miles)\n",
        "plt.plot(batt_mass,miles,'*r')\n",
        "plt.title('batt_mass (kg) vs Range (mi), Li-ION')\n",
        "plt.ylabel('miles')\n",
        "plt.xlabel('batt_mass (kg)')\n",
        "plt.grid()\n",
        "\n",
        "\n",
        "print(ranges[-1],\"\\n\")\n",
        "\n",
        "labels = ['batt_mass: ', 'Range (mi): ', 'Gross_wt (kg): ', 'Batt_mass_fraction: ', 'batt_kWh: ']\n",
        "\n",
        "for x in range(len(labels)):\n",
        "    print(labels[x],(f\"{ranges[-1][x]:.2f}\"))"
      ]
    },
    {
      "cell_type": "code",
      "execution_count": 15,
      "metadata": {
        "colab": {
          "base_uri": "https://localhost:8080/",
          "height": 0
        },
        "id": "S7uCwl2SKMbi",
        "outputId": "839d0e2d-d08f-45b6-8c1f-1fcf8ea51fdc"
      },
      "outputs": [
        {
          "output_type": "stream",
          "name": "stdout",
          "text": [
            "(53.550000000000004, 41.74450069072812, 228.95000000000002, 0.21000000000000002, 12.048750000000002) \n",
            "\n",
            "batt_mass:  53.55\n",
            "Range (mi):  41.74\n",
            "Gross_wt (kg):  228.95\n",
            "Batt_mass_fraction:  0.21\n",
            "batt_kWh:  12.05\n"
          ]
        },
        {
          "output_type": "display_data",
          "data": {
            "image/png": "[encoded data removed]",
            "text/plain": [
              "<Figure size 432x288 with 1 Axes>"
            ]
          },
          "metadata": {
            "needs_background": "light"
          }
        }
      ],
      "source": [
        "# BLACKFLY (Opener), https://evtol.news/opener-blackfly/\n",
        "'''\n",
        "Below numbers were spec'd to get 40+ mi range with 12kWh battery, makes l/D 6.5 which seems somewhat unrealistic\n",
        "given the limited span.  BlackFly must benefit greatly from a psuedo blown wing effect in forward flight to greatly increase\n",
        "CL while keeping drag low with such small wings.\n",
        "'''\n",
        "\n",
        "\n",
        "fractions = np.arange(.01, .22, .01)\n",
        "\n",
        "e_m = .9\n",
        "e_p = .85\n",
        "ld = 6.5  #Slight increase in L/D due to potential for blown stub-wing aerodynamics, could be way too high, unknown\n",
        "e_batt = 225  # Li-ION\n",
        "payload = (113.4 * 1)\n",
        "\n",
        "MTOW = (142 + 113)  #KG, basic calculations based on international variant.  INTL:  12 kWh batt, US: 8 kWH batt\n",
        "\n",
        "# MTOW = (900 / 1.2) / 2.2  # advanced calculations on using a 1.25 thrust factor to maximuize range, max thrust: 900 lbs\n",
        "\n",
        "w_test1 = MTOW * fractions[0]\n",
        "\n",
        "ranges = []\n",
        "\n",
        "for fraction in fractions:\n",
        "    w_batt = MTOW * fraction\n",
        "    w_empty = (142-80) #KG\n",
        "\n",
        "    if w_empty + w_batt + payload > (MTOW * .955):\n",
        "        print (f\"MTOW: {w_empty + w_batt + payload:.2f} kg\")  #  print(f\"Salário do mês: R${salario:.2f}\")\n",
        "        break\n",
        "    else:\n",
        "        y = electric_range(e_m, e_p, ld, e_batt, w_batt, w_empty, payload)\n",
        "        ranges.append((w_batt, y, (w_empty + w_batt + payload), fraction, (w_batt * e_batt) / 1000))\n",
        "\n",
        "\n",
        "batt_mass  = [x[0] for x in ranges]\n",
        "miles  = [x[1] for x in ranges]\n",
        "TOW = [x[2] for x in ranges]\n",
        "fractional_weight = [x[3] for x in ranges]\n",
        "\n",
        "plt.plot(batt_mass,miles)\n",
        "plt.plot(batt_mass,miles,'*r')\n",
        "plt.title('batt_mass (kg) vs Range (mi), Li-ION')\n",
        "plt.ylabel('miles')\n",
        "plt.xlabel('batt_mass (kg)')\n",
        "plt.grid()\n",
        "\n",
        "\n",
        "print(ranges[-1],\"\\n\")\n",
        "\n",
        "labels = ['batt_mass: ', 'Range (mi): ', 'Gross_wt (kg): ', 'Batt_mass_fraction: ', 'batt_kWh: ']\n",
        "\n",
        "for x in range(len(labels)):\n",
        "    print(labels[x],(f\"{ranges[-1][x]:.2f}\"))\n",
        "\n",
        "        "
      ]
    },
    {
      "cell_type": "code",
      "execution_count": 16,
      "metadata": {
        "colab": {
          "base_uri": "https://localhost:8080/",
          "height": 0
        },
        "id": "X4qbUUOdKMzV",
        "outputId": "0e602b1b-30f5-4898-b31e-4048e7deb4b8"
      },
      "outputs": [
        {
          "output_type": "stream",
          "name": "stdout",
          "text": [
            "MTOW: 432.50 kg\n",
            "(63.00000000000001, 12.125094218897368, 428.0, 0.14, 9.450000000000001) \n",
            "\n",
            "batt_mass:  63.00\n",
            "Range (mi):  12.13\n",
            "Gross_wt (kg):  428.00\n",
            "Batt_mass_fraction:  0.14\n",
            "batt_kWh:  9.45\n"
          ]
        },
        {
          "output_type": "display_data",
          "data": {
            "image/png": "[encoded data removed]",
            "text/plain": [
              "<Figure size 432x288 with 1 Axes>"
            ]
          },
          "metadata": {
            "needs_background": "light"
          }
        }
      ],
      "source": [
        "# VOLOCOPTER\n",
        "\n",
        "# volocopter stated range is 17mi but according to this analysis even with a VERY generous L/D ratio that type of range comes at the \n",
        "# cost of severely draining the batteries limiting their lifespan\n",
        "# Volocopter may have moved to a more favorable Li-ION batt chemistry which would again peak them at ~18 miles.\n",
        "# It seems highly unlikely however they will achieve a powered L/D of 4.5, more data is needed to confirm.\n",
        "\n",
        "fractions = np.arange(.01, .40, .01)\n",
        "\n",
        "e_m = .9\n",
        "e_p = .85\n",
        "ld = 4.5  #Slight increase in L/D due to potential for blown stub-wing aerodynamics\n",
        "e_batt = 150  # LIPO\n",
        "payload = (100 * 2)\n",
        "\n",
        "MTOW = (450)  #KG\n",
        "\n",
        "\n",
        "\n",
        "w_test1 = MTOW * fractions[0]\n",
        "\n",
        "ranges = []\n",
        "\n",
        "for fraction in fractions:\n",
        "    w_batt = MTOW * fraction\n",
        "    w_empty = (165) #KG\n",
        "\n",
        "    if w_empty + w_batt + payload > (MTOW * .955):\n",
        "        print (f\"MTOW: {w_empty + w_batt + payload:.2f} kg\")  #  print(f\"Salário do mês: R${salario:.2f}\")\n",
        "        break\n",
        "    else:\n",
        "        y = electric_range(e_m, e_p, ld, e_batt, w_batt, w_empty, payload)\n",
        "        ranges.append((w_batt, y, (w_empty + w_batt + payload), fraction, (w_batt * e_batt) / 1000))\n",
        "\n",
        "\n",
        "batt_mass  = [x[0] for x in ranges]\n",
        "miles  = [x[1] for x in ranges]\n",
        "TOW = [x[2] for x in ranges]\n",
        "fractional_weight = [x[3] for x in ranges]\n",
        "\n",
        "plt.plot(batt_mass,miles)\n",
        "plt.plot(batt_mass,miles,'*r')\n",
        "plt.title('VOLOCOPTER\\n batt_mass (kg) vs Range (mi), Li-ION')\n",
        "plt.ylabel('miles')\n",
        "plt.xlabel('batt_mass (kg)')\n",
        "plt.grid()\n",
        "\n",
        "\n",
        "print(ranges[-1],\"\\n\")\n",
        "\n",
        "labels = ['batt_mass: ', 'Range (mi): ', 'Gross_wt (kg): ', 'Batt_mass_fraction: ', 'batt_kWh: ']\n",
        "\n",
        "for x in range(len(labels)):\n",
        "    print(labels[x],(f\"{ranges[-1][x]:.2f}\"))\n",
        "\n",
        "        "
      ]
    },
    {
      "cell_type": "markdown",
      "metadata": {
        "id": "usyKBdrYTXr3"
      },
      "source": [
        "# Lift + Cruise Designs and Tilt Motors"
      ]
    },
    {
      "cell_type": "code",
      "execution_count": 17,
      "metadata": {
        "colab": {
          "base_uri": "https://localhost:8080/",
          "height": 0
        },
        "id": "FEVtz00BKM8d",
        "outputId": "4ffd22a0-f956-4730-b9dc-2abc40a506ee"
      },
      "outputs": [
        {
          "output_type": "stream",
          "name": "stdout",
          "text": [
            "(1238.25, 64.25145165137616, 3175.0, 0.39, 278.60625) \n",
            "\n",
            "batt_mass:  1238.25\n",
            "Range (mi):  64.25\n",
            "Gross_wt (kg):  3175.00\n",
            "Batt_mass_fraction:  0.39\n",
            "batt_kWh:  278.61\n"
          ]
        },
        {
          "output_type": "display_data",
          "data": {
            "image/png": "[encoded data removed]",
            "text/plain": [
              "<Figure size 432x288 with 1 Axes>"
            ]
          },
          "metadata": {
            "needs_background": "light"
          }
        }
      ],
      "source": [
        "# ARCHER (unnamed), Mass fractions exploration\n",
        "\n",
        "'''\n",
        "Archer claims a 7k lb MTOW but only 60 miles range holding 5 passengers, the range either seems misquoted \n",
        "or the MTOW.  TO achieve such dismal performance from a heavy vehicle would require very low L/D ratios.\n",
        "More data is needed.\n",
        "'''\n",
        "\n",
        "fractions = np.arange(.01, .40, .01)\n",
        "\n",
        "e_m = .9\n",
        "e_p = .85\n",
        "ld = 6\n",
        "e_batt = 225\n",
        "payload = (100 * 5)\n",
        "\n",
        "MTOW = 3175 #KG\n",
        "\n",
        "w_test1 = MTOW * fractions[0]\n",
        "\n",
        "ranges = []\n",
        "\n",
        "for fraction in fractions:\n",
        "    w_batt = MTOW * fraction\n",
        "    w_empty = MTOW - payload - w_batt\n",
        "\n",
        "    y = electric_range(e_m, e_p, ld, e_batt, w_batt, w_empty, payload)\n",
        "    \n",
        "    ranges.append((w_batt, y, (w_empty + w_batt + payload), fraction, (w_batt * e_batt) / 1000))\n",
        "\n",
        "print(ranges[-1],\"\\n\")\n",
        "\n",
        "x_val  = [x[0] for x in ranges]\n",
        "y_val  = [x[1] for x in ranges]\n",
        "y2_val = [x[2] for x in ranges]\n",
        "\n",
        "plt.plot(x_val,y_val)\n",
        "plt.plot(x_val,y_val,'*r')\n",
        "plt.title('JOBY\\n batt_mass (kg) vs Range (mi), Li-ION')\n",
        "plt.ylabel('miles')\n",
        "plt.xlabel('batt_mass (kg)')\n",
        "plt.grid()\n",
        "\n",
        "labels = ['batt_mass: ', 'Range (mi): ', 'Gross_wt (kg): ', 'Batt_mass_fraction: ', 'batt_kWh: ']\n",
        "\n",
        "for x in range(len(labels)):\n",
        "    print(labels[x],(f\"{ranges[-1][x]:.2f}\"))\n"
      ]
    },
    {
      "cell_type": "code",
      "execution_count": 18,
      "metadata": {
        "colab": {
          "base_uri": "https://localhost:8080/",
          "height": 0
        },
        "id": "eC5qTbuuKNDm",
        "outputId": "16697526-d719-4729-adfa-23308ed74484"
      },
      "outputs": [
        {
          "output_type": "stream",
          "name": "stdout",
          "text": [
            "(1061.19, 257.00580660550463, 2721.0, 0.39, 238.76775) \n",
            "\n",
            "batt_mass:  1061.19\n",
            "Range (mi):  257.01\n",
            "Gross_wt (kg):  2721.00\n",
            "Batt_mass_fraction:  0.39\n",
            "batt_kWh:  238.77\n"
          ]
        },
        {
          "output_type": "display_data",
          "data": {
            "image/png": "[encoded data removed]",
            "text/plain": [
              "<Figure size 432x288 with 1 Axes>"
            ]
          },
          "metadata": {
            "needs_background": "light"
          }
        }
      ],
      "source": [
        "#  BETA Alia\n",
        "\n",
        "'''\n",
        "Beta Alia vehicle has some impressive stats for the lift + cruise design.\n",
        "It is a very heavy flight vehcile at ~6k lbs.\n",
        "It would need a very impressive L/D of 24+ to achieve the ranges spec'd out in the literature.\n",
        "This may be possible the wing seems to be very highaspect ratio sized mainly for cruise as the stall speed in\n",
        "airplane mode is nearly 90 knts as pointed out in one of their press releases.\n",
        "\n",
        "It seems the primary design factor for these longer range inter-city EVOTLs will be maximizing L/D at all costs until better\n",
        "battery chems are avail.\n",
        "'''\n",
        "\n",
        "fractions = np.arange(.01, .4, .01)\n",
        "\n",
        "e_m = .9\n",
        "e_p = .85\n",
        "ld = 24\n",
        "e_batt = 225\n",
        "payload = (635)  #kg, cargo and optional pilot(?)\n",
        "\n",
        "MTOW = 2721 #KG\n",
        "\n",
        "w_test1 = MTOW * fractions[0]\n",
        "\n",
        "ranges = []\n",
        "\n",
        "for fraction in fractions:\n",
        "    w_batt = MTOW * fraction\n",
        "    w_empty = MTOW - payload - w_batt\n",
        "    total_w = w_batt + w_empty + payload\n",
        "    \n",
        "    \n",
        "\n",
        "    y = electric_range(e_m, e_p, ld, e_batt, w_batt, w_empty, payload)\n",
        "    \n",
        "    ranges.append((w_batt, y, (w_empty + w_batt + payload), fraction, (w_batt * e_batt) / 1000))\n",
        "\n",
        "print(ranges[-1],\"\\n\")\n",
        "\n",
        "x_val  = [x[0] for x in ranges]\n",
        "y_val  = [x[1] for x in ranges]\n",
        "y2_val = [x[2] for x in ranges]\n",
        "\n",
        "plt.plot(x_val,y_val)\n",
        "plt.plot(x_val,y_val,'*r')\n",
        "plt.title('BETA\\n batt_mass (kg) vs Range (mi), Li-ION')\n",
        "plt.ylabel('miles')\n",
        "plt.xlabel('batt_mass (kg)')\n",
        "plt.grid()\n",
        "\n",
        "labels = ['batt_mass: ', 'Range (mi): ', 'Gross_wt (kg): ', 'Batt_mass_fraction: ', 'batt_kWh: ']\n",
        "\n",
        "for x in range(len(labels)):\n",
        "    print(labels[x],(f\"{ranges[-1][x]:.2f}\"))\n"
      ]
    },
    {
      "cell_type": "code",
      "execution_count": 18,
      "metadata": {
        "id": "QZDh3yK8KNJm"
      },
      "outputs": [],
      "source": [
        ""
      ]
    },
    {
      "cell_type": "markdown",
      "metadata": {
        "id": "IpeHU0B9Kody"
      },
      "source": [
        "# Base Case Range Explorations vs various attributes"
      ]
    },
    {
      "cell_type": "code",
      "execution_count": 19,
      "metadata": {
        "colab": {
          "base_uri": "https://localhost:8080/",
          "height": 327
        },
        "id": "fESCFn1TKNQD",
        "outputId": "b4a3e8e8-8ee9-4d1f-934c-df2524ce2f1b"
      },
      "outputs": [
        {
          "output_type": "stream",
          "name": "stdout",
          "text": [
            "(0.12495, 0.5999999999999999, 3.0896629706943948, 0.38495, 0.49, 0.0162435)\n"
          ]
        },
        {
          "output_type": "display_data",
          "data": {
            "image/png": "[encoded data removed]",
            "text/plain": [
              "<Figure size 432x288 with 1 Axes>"
            ]
          },
          "metadata": {
            "needs_background": "light"
          }
        }
      ],
      "source": [
        "import matplotlib.cm as cm\n",
        "\n",
        "\n",
        "b_fractions = np.arange(.01, .5, .01)\n",
        "ld_ratios = np.arange(.2,.65,.05)\n",
        "empty_weights = np.arange(.155,.340,.1)\n",
        "\n",
        "e_m = .9\n",
        "e_p = .85\n",
        "# ld = 17\n",
        "e_batt = 130\n",
        "payload = .005  #kg\n",
        "\n",
        "ranges = []\n",
        "\n",
        "\n",
        "for e in empty_weights:\n",
        "    w_empty = e\n",
        "    \n",
        "    for b in b_fractions:\n",
        "        w_batt = w_empty * b\n",
        "        \n",
        "        for i in ld_ratios:\n",
        "            ld = i\n",
        "\n",
        "            y = electric_range(e_m, e_p, ld, e_batt, w_batt, w_empty, payload)\n",
        "            ranges.append((w_batt, ld, y, (w_empty + w_batt + payload), b, (w_batt * e_batt) / 1000))\n",
        "                \n",
        "                \n",
        "    \n",
        "    \n",
        "\n",
        "\n",
        "\n",
        "\n",
        "\n",
        "# y = electric_range(e_m, e_p, ld, e_batt, w_batt, w_empty, payload)\n",
        "\n",
        "\n",
        "# for fraction in fractions:\n",
        "#     w_batt = MTOW * fraction\n",
        "#     w_empty = MTOW - payload - w_batt\n",
        "#     total_w = w_batt + w_empty + payload\n",
        "\n",
        "\n",
        "\n",
        "battery_mass   = [x[0] for x in ranges]\n",
        "lift_to_drag   = [x[1] for x in ranges]\n",
        "y              = [x[2] for x in ranges]\n",
        "gross_weight   = [x[3] for x in ranges]\n",
        "mass_fraction  = [x[4] for x in ranges]\n",
        "kWh            = [x[5] for x in ranges]\n",
        "\n",
        "\n",
        "indy = mass_fraction\n",
        "\n",
        "plt.scatter(gross_weight,y)\n",
        "# plt.plot(battery_mass,y,'*r')\n",
        "plt.title('BETA\\n batt_mass (kg) vs Range (mi), Li-ION')\n",
        "plt.ylabel('miles')\n",
        "plt.xlabel('gross.')\n",
        "plt.grid()\n",
        "\n",
        "plt.xlim(.15,.240)\n",
        "\n",
        "print(ranges[-1])\n"
      ]
    },
    {
      "cell_type": "code",
      "execution_count": 20,
      "metadata": {
        "colab": {
          "base_uri": "https://localhost:8080/",
          "height": 327
        },
        "id": "y_RwvUnHKNWW",
        "outputId": "6c15efe7-7253-4f4b-d037-78afa2b20c28"
      },
      "outputs": [
        {
          "output_type": "execute_result",
          "data": {
            "text/plain": [
              "Text(0.5, 0, 'gross')"
            ]
          },
          "metadata": {},
          "execution_count": 20
        },
        {
          "output_type": "display_data",
          "data": {
            "image/png": "[encoded data removed]",
            "text/plain": [
              "<Figure size 432x288 with 1 Axes>"
            ]
          },
          "metadata": {
            "needs_background": "light"
          }
        }
      ],
      "source": [
        "b_fractions = np.arange(.01, .41, .01)\n",
        "ld_ratios = np.arange(3,21,1)\n",
        "empty_weights = np.arange(20,(6000/2.2)+1, 5)\n",
        "\n",
        "e_m = .9\n",
        "e_p = .85\n",
        "# ld = 17\n",
        "e_batt = 150\n",
        "payload = 100  #kg\n",
        "\n",
        "ranges = []\n",
        "\n",
        "\n",
        "for e in empty_weights:\n",
        "    w_empty = e\n",
        "    \n",
        "    for b in b_fractions:\n",
        "        w_batt = w_empty * b\n",
        "        \n",
        "        for i in ld_ratios:\n",
        "            ld = i\n",
        "\n",
        "            y = electric_range(e_m, e_p, ld, e_batt, w_batt, w_empty, payload)\n",
        "            ranges.append((w_batt, ld, y, (w_empty + w_batt + payload), b, (w_batt * e_batt) / 1000))\n",
        "                \n",
        "                \n",
        "    \n",
        "    \n",
        "\n",
        "\n",
        "\n",
        "\n",
        "\n",
        "# y = electric_range(e_m, e_p, ld, e_batt, w_batt, w_empty, payload)\n",
        "\n",
        "\n",
        "# for fraction in fractions:\n",
        "#     w_batt = MTOW * fraction\n",
        "#     w_empty = MTOW - payload - w_batt\n",
        "#     total_w = w_batt + w_empty + payload\n",
        "\n",
        "\n",
        "\n",
        "battery_mass   = [x[0] for x in ranges]\n",
        "lift_to_drag   = [x[1] for x in ranges]\n",
        "y              = [x[2] for x in ranges]\n",
        "gross_weight   = [x[3] for x in ranges]\n",
        "mass_fraction  = [x[4] for x in ranges]\n",
        "kWh            = [x[5] for x in ranges]\n",
        "\n",
        "\n",
        "indy = gross_weight\n",
        "\n",
        "plt.scatter(indy,y)\n",
        "# plt.plot(battery_mass,y,'*r')\n",
        "plt.title('BETA\\n batt_mass (kg) vs Range (mi), Li-ION')\n",
        "plt.ylabel('miles')\n",
        "plt.xlabel('gross')\n",
        "# plt.grid()\n",
        "\n",
        "# plt.xlim(217,219)\n"
      ]
    },
    {
      "cell_type": "code",
      "execution_count": 21,
      "metadata": {
        "colab": {
          "base_uri": "https://localhost:8080/",
          "height": 312
        },
        "id": "Nr5piW-WKNcT",
        "outputId": "f7eb1f0e-53b7-46aa-a41d-2a860c84c4aa"
      },
      "outputs": [
        {
          "output_type": "display_data",
          "data": {
            "image/png": "[encoded data removed]",
            "text/plain": [
              "<Figure size 432x288 with 2 Axes>"
            ]
          },
          "metadata": {
            "needs_background": "light"
          }
        }
      ],
      "source": [
        "# plotting two metrics...testing\n",
        "\n",
        "\n",
        "fig, ax = plt.subplots(constrained_layout=True)\n",
        "x = gross_weight\n",
        "y2 = lift_to_drag\n",
        "y = y\n",
        "ax.scatter(x, y)\n",
        "ax.set_xlabel('g_wt')\n",
        "ax.set_ylabel('range (mi)')\n",
        "ax.set_title('Will this work?\\n')\n",
        "\n",
        "ax2 = ax.twinx()\n",
        "ax2.plot(x, y2, 'r', alpha = .25)\n",
        "ax2.set_ylabel(\"L/D\")\n",
        "\n",
        "\n",
        "# plt.xlim(200,225)\n",
        "\n",
        "plt.show()"
      ]
    },
    {
      "cell_type": "code",
      "execution_count": 21,
      "metadata": {
        "id": "Mfej59OgKNii"
      },
      "outputs": [],
      "source": [
        ""
      ]
    },
    {
      "cell_type": "code",
      "execution_count": 21,
      "metadata": {
        "id": "fdWnmpV1KNoy"
      },
      "outputs": [],
      "source": [
        ""
      ]
    },
    {
      "cell_type": "markdown",
      "metadata": {
        "id": "d3iP2Cn76vzL"
      },
      "source": [
        "# Small Aircraft / Drones"
      ]
    },
    {
      "cell_type": "markdown",
      "metadata": {
        "id": "yMrjs9ndKNu5"
      },
      "source": [
        "## Microquad and MicroQuad Biplane Modelling"
      ]
    },
    {
      "cell_type": "code",
      "execution_count": 22,
      "metadata": {
        "colab": {
          "base_uri": "https://localhost:8080/",
          "height": 432
        },
        "id": "Qmo6VRSuKN1I",
        "outputId": "91381ffb-3a79-4e51-97eb-ebfe402e12b2"
      },
      "outputs": [
        {
          "output_type": "stream",
          "name": "stdout",
          "text": [
            "(0.0736, 3.138798808073394, 0.22999999999999998, 0.32, 0.0089792) \n",
            "\n",
            "batt_mass:  0.07\n",
            "Range (mi):  3.14\n",
            "Gross_wt (kg):  0.23\n",
            "Batt_mass_fraction:  0.32\n",
            "batt_kWh:  0.01\n"
          ]
        },
        {
          "output_type": "display_data",
          "data": {
            "image/png": "[encoded data removed]",
            "text/plain": [
              "<Figure size 432x288 with 1 Axes>"
            ]
          },
          "metadata": {
            "needs_background": "light"
          }
        }
      ],
      "source": [
        "#  Carbon Microquad Bi-Plane\n",
        "\n",
        "fractions = np.arange(.30, .32, .01)\n",
        "\n",
        "e_m = .8  \n",
        "e_p = .7\n",
        "ld = .9  # (microquad L/D ratios, .75, are very poor averaged out across flight regime... see L/D notes below)\n",
        "e_batt = 122  # small batteries have much lower energy density due to higher fractional weight of connectors and wiring (122)\n",
        "payload = (43/1000)\n",
        "\n",
        "MTOW = (230/1000) #KG\n",
        "\n",
        "w_test1 = MTOW * fractions[0]\n",
        "\n",
        "ranges = []\n",
        "\n",
        "for fraction in fractions:\n",
        "    w_batt = MTOW * fraction\n",
        "    w_empty = MTOW - payload - w_batt\n",
        "    total_w = w_batt + w_empty + payload\n",
        "    \n",
        "    \n",
        "\n",
        "    y = electric_range(e_m, e_p, ld, e_batt, w_batt, w_empty, payload)\n",
        "    \n",
        "    ranges.append((w_batt, y, (w_empty + w_batt + payload), fraction, (w_batt * e_batt) / 1000))\n",
        "\n",
        "print(ranges[-1],\"\\n\")\n",
        "\n",
        "x_val  = [x[0] for x in ranges]\n",
        "y_val  = [x[1] for x in ranges]\n",
        "y2_val = [x[2] for x in ranges]\n",
        "\n",
        "plt.plot(x_val,y_val)\n",
        "plt.plot(x_val,y_val,'*r')\n",
        "plt.title('BETA\\n batt_mass (kg) vs Range (mi), Li-ION')\n",
        "plt.ylabel('miles')\n",
        "plt.xlabel('batt_mass (kg)')\n",
        "plt.grid()\n",
        "\n",
        "labels = ['batt_mass: ', 'Range (mi): ', 'Gross_wt (kg): ', 'Batt_mass_fraction: ', 'batt_kWh: ']\n",
        "\n",
        "for x in range(len(labels)):\n",
        "    print(labels[x],(f\"{ranges[-1][x]:.2f}\"))"
      ]
    },
    {
      "cell_type": "code",
      "execution_count": 23,
      "metadata": {
        "colab": {
          "base_uri": "https://localhost:8080/"
        },
        "id": "sb2apvrRKN7S",
        "outputId": "d467fe5f-ba1f-40fd-9a98-c973f926e226"
      },
      "outputs": [
        {
          "output_type": "stream",
          "name": "stdout",
          "text": [
            "watt-hours:  8.9792\n"
          ]
        }
      ],
      "source": [
        "small_batt = ranges[-1][4]\n",
        "small_batt = small_batt * 1000\n",
        "\n",
        "print(\"watt-hours: \", small_batt)"
      ]
    },
    {
      "cell_type": "code",
      "execution_count": 24,
      "metadata": {
        "colab": {
          "base_uri": "https://localhost:8080/"
        },
        "id": "azPojNBlK57-",
        "outputId": "b38fb2c0-bd32-4929-ff36-75b5f0f9459a"
      },
      "outputs": [
        {
          "output_type": "stream",
          "name": "stdout",
          "text": [
            "endurance (mins):   7.70\n",
            "   distance (km):   8.31\n",
            "   distance (mi):   5.20\n"
          ]
        }
      ],
      "source": [
        "flight_power = 70  #(watts)\n",
        "flight_speed = 18 #(m/s)\n",
        "\n",
        "endurance_time = (small_batt / flight_power) * 60\n",
        "distance = (endurance_time * 60) * flight_speed\n",
        "\n",
        "print(\"endurance (mins): \", f\"{endurance_time: .2f}\")\n",
        "print(\"   distance (km): \",f\"{distance/1000: .2f}\")\n",
        "print(\"   distance (mi): \",f\"{distance/1000*.626: .2f}\")"
      ]
    },
    {
      "cell_type": "code",
      "execution_count": 25,
      "metadata": {
        "colab": {
          "base_uri": "https://localhost:8080/",
          "height": 432
        },
        "id": "6gGHNN2xK6Mi",
        "outputId": "99766c5e-6a1c-45b5-92ce-2af9bc30444a"
      },
      "outputs": [
        {
          "output_type": "stream",
          "name": "stdout",
          "text": [
            "(0.16115999999999994, 9.291455508550454, 0.316, 0.5099999999999998, 0.033198959999999986) \n",
            "\n",
            "batt_mass:  0.16\n",
            "Range (mi):  9.29\n",
            "Gross_wt (kg):  0.32\n",
            "Batt_mass_fraction:  0.51\n",
            "batt_kWh:  0.03\n"
          ]
        },
        {
          "output_type": "display_data",
          "data": {
            "image/png": "[encoded data removed]",
            "text/plain": [
              "<Figure size 432x288 with 1 Axes>"
            ]
          },
          "metadata": {
            "needs_background": "light"
          }
        }
      ],
      "source": [
        "#  Carbon Microquad Bi-Plane with LI-ION pack 11.1V / 3,000 mah 161g\n",
        "\n",
        "fractions = np.arange(.10, .52, .01)\n",
        "\n",
        "e_m = .8\n",
        "e_p = .7\n",
        "ld = .99  # (microquad L/D ratios, .75, are very poor averaged out across flight regime)\n",
        "e_batt = 206  # small batteries have much lower energy density due to higher fractional weight of connectors and wiring (122)\n",
        "              # 206 for small 3000 mah Li-ION, 122 for small 850mah lipo\n",
        "payload = .00001\n",
        "\n",
        "MTOW = ((230 + 86) /1000) #KG\n",
        "\n",
        "w_test1 = MTOW * fractions[0]\n",
        "\n",
        "ranges = []\n",
        "\n",
        "for fraction in fractions:\n",
        "    w_batt = MTOW * fraction\n",
        "    w_empty = MTOW - payload - w_batt\n",
        "    total_w = w_batt + w_empty + payload\n",
        "    \n",
        "    \n",
        "\n",
        "    y = electric_range(e_m, e_p, ld, e_batt, w_batt, w_empty, payload)\n",
        "    \n",
        "    ranges.append((w_batt, y, (w_empty + w_batt + payload), fraction, (w_batt * e_batt) / 1000))\n",
        "\n",
        "print(ranges[-1],\"\\n\")\n",
        "\n",
        "battery_mass   = [x[0] for x in ranges]\n",
        "y              = [x[1] for x in ranges]\n",
        "gross_weight   = [x[2] for x in ranges]\n",
        "mass_fraction  = [x[3] for x in ranges]\n",
        "kWh            = [x[4] for x in ranges]\n",
        "\n",
        "\n",
        "plt.plot(battery_mass,y)\n",
        "plt.plot(battery_mass,y,'*r')\n",
        "plt.title('BETA\\n batt_mass (kg) vs Range (mi), Li-ION')\n",
        "plt.ylabel('miles')\n",
        "plt.xlabel('batt_mass (kg)')\n",
        "plt.grid()\n",
        "\n",
        "labels = ['batt_mass: ', 'Range (mi): ', 'Gross_wt (kg): ', 'Batt_mass_fraction: ', 'batt_kWh: ']\n",
        "\n",
        "for x in range(len(labels)):\n",
        "    print(labels[x],(f\"{ranges[-1][x]:.2f}\"))"
      ]
    },
    {
      "cell_type": "code",
      "execution_count": 26,
      "metadata": {
        "colab": {
          "base_uri": "https://localhost:8080/"
        },
        "id": "QEqdUNnHK6Xp",
        "outputId": "7f4e1ecf-b5ba-4da0-8b25-e9ea7e2228bf"
      },
      "outputs": [
        {
          "output_type": "stream",
          "name": "stdout",
          "text": [
            "watt-hours:  33.198959999999985\n",
            "endurance (mins):   33.20\n",
            "   distance (km):   0.00\n",
            "   distance (mi):   0.00\n"
          ]
        }
      ],
      "source": [
        "small_batt = ranges[-1][4]\n",
        "small_batt = small_batt * 1000\n",
        "\n",
        "print(\"watt-hours: \", small_batt)\n",
        "\n",
        "'''\n",
        "90 /18\n",
        "\n",
        "'''\n",
        "\n",
        "\n",
        "flight_power = 60  #(watts)\n",
        "flight_speed = 0  #(m/s)\n",
        "\n",
        "endurance_time = (small_batt / flight_power) * 60\n",
        "distance = (endurance_time * 60) * flight_speed\n",
        "\n",
        "print(\"endurance (mins): \", f\"{endurance_time: .2f}\")\n",
        "print(\"   distance (km): \",f\"{distance/1000: .2f}\")\n",
        "print(\"   distance (mi): \",f\"{distance/1000*.626: .2f}\")"
      ]
    },
    {
      "cell_type": "code",
      "execution_count": 27,
      "metadata": {
        "colab": {
          "base_uri": "https://localhost:8080/"
        },
        "id": "ipdoUOMEK6i1",
        "outputId": "fb8da804-2133-44ec-adb5-babeb671b170"
      },
      "outputs": [
        {
          "output_type": "stream",
          "name": "stdout",
          "text": [
            "  mass:   0.32 kg\n",
            " speed:   0.00 m/s\n",
            "L/D,eq:   0.00\n"
          ]
        }
      ],
      "source": [
        "# Multicopter Equivalent Lift to Drag Calculations, ref paper:  need to find link***\n",
        "\n",
        "\n",
        "\n",
        "mass = ranges[-1][2]    #kg\n",
        "power = 70 / 1000       #kW\n",
        "speed = flight_speed    #m/s\n",
        "\n",
        "equiv_l_to_d = (((mass * speed) / power) / 100)\n",
        "\n",
        "print(\"  mass: \", f\"{mass: .2f}\", \"kg\")\n",
        "print(\" speed: \", f\"{speed: .2f}\", \"m/s\")\n",
        "print(\"L/D,eq: \", f\"{equiv_l_to_d: .2f}\")"
      ]
    },
    {
      "cell_type": "markdown",
      "metadata": {
        "id": "WqIhrXBjK6rN"
      },
      "source": [
        "### Different wing geometries no_wing, foam core 33 cm span, foam core 17 cm span"
      ]
    },
    {
      "cell_type": "code",
      "execution_count": 28,
      "metadata": {
        "id": "Nmh2J0MGK6yX"
      },
      "outputs": [],
      "source": [
        "foam_33 = [\n",
        "    (0, 65),    \n",
        "    (6.5, 42),\n",
        "    (9.5, 52)\n",
        "]\n",
        "\n",
        "no_wing = [\n",
        "    (0, 65),\n",
        "    (6.5, 55),\n",
        "    (9.5, 57.5),\n",
        "    (19, 75),\n",
        "    (22.5, 85)\n",
        "]\n",
        "\n",
        "foam_17 = [\n",
        "    (0, 65),    \n",
        "    (6.5, 50),\n",
        "    (9.5, 51.5),\n",
        "    (15, 57.5),\n",
        "    (17.5, 65),\n",
        "    (19, 75),\n",
        "    (22.5, 88)\n",
        "]\n",
        "\n",
        "mass = .230"
      ]
    },
    {
      "cell_type": "code",
      "execution_count": 29,
      "metadata": {
        "id": "uXlUKeAnK65W"
      },
      "outputs": [],
      "source": [
        "def multi_specs(mass, power, speed, kwh):\n",
        "    endurance_time = ((kwh) / power) * 60 \n",
        "    distance = ((endurance_time * 60) * speed) / 1000\n",
        "    equiv_l_to_d = (((mass * speed) / power) / 100)\n",
        "    \n",
        "    return [endurance_time, distance, equiv_l_to_d]\n",
        "    \n",
        "    "
      ]
    },
    {
      "cell_type": "code",
      "execution_count": 30,
      "metadata": {
        "colab": {
          "base_uri": "https://localhost:8080/"
        },
        "id": "Xy-IesPAK6_e",
        "outputId": "fc7805fe-3615-46d1-b3fa-a4362196b115"
      },
      "outputs": [
        {
          "output_type": "stream",
          "name": "stdout",
          "text": [
            "\n",
            "\n",
            "(0, 65) [24.590769230769236, 0.0, 0.0]\n",
            "(6.5, 55) [29.061818181818186, 11.334109090909093, 0.5637272727272726]\n",
            "(9.5, 57.5) [27.79826086956522, 15.845008695652174, 0.788086956521739]\n",
            "(19, 75) [21.312000000000005, 24.295680000000004, 1.2084]\n",
            "(22.5, 85) [18.804705882352945, 25.386352941176476, 1.2626470588235292]\n",
            "\n",
            "\n",
            "(0, 65) [24.590769230769236, 0.0, 0.0]\n",
            "(6.5, 50) [31.968000000000004, 12.46752, 0.6200999999999999]\n",
            "(9.5, 51.5) [31.0368932038835, 17.691029126213593, 0.8799029126213591]\n",
            "(15, 57.5) [27.79826086956522, 25.018434782608697, 1.2443478260869565]\n",
            "(17.5, 65) [24.590769230769236, 25.820307692307697, 1.2842307692307693]\n",
            "(19, 75) [21.312000000000005, 24.295680000000004, 1.2084]\n",
            "(22.5, 88) [18.163636363636368, 24.520909090909097, 1.2196022727272728]\n",
            "\n",
            "\n",
            "(0, 65) [24.590769230769236, 0.0, 0.0]\n",
            "(6.5, 42) [38.057142857142864, 14.842285714285717, 0.7382142857142857]\n",
            "(9.5, 52) [30.738461538461543, 17.52092307692308, 0.8714423076923076]\n"
          ]
        }
      ],
      "source": [
        "layout_list = [no_wing, foam_17, foam_33]\n",
        "max_list = []\n",
        "lower_bound = -10000\n",
        "\n",
        "\n",
        "\n",
        "for j in layout_list:\n",
        "    print('\\n')\n",
        "    for i in j:\n",
        "        p = multi_specs(.230 + .086 + .161, i[1] / 1000, i[0], (.0333 * .8))\n",
        "        # 850mah LIPO is .00969 kWh, 3k mah LI-ION is .0333\n",
        "        \n",
        "        if p[0] > lower_bound:\n",
        "            lower_bound = p[0]\n",
        "            max = (i,p)\n",
        "        else:\n",
        "            pass\n",
        "        \n",
        "        print(i, p)"
      ]
    },
    {
      "cell_type": "code",
      "execution_count": 31,
      "metadata": {
        "colab": {
          "base_uri": "https://localhost:8080/"
        },
        "id": "ICg2TCnMK7Fr",
        "outputId": "184905d2-64f9-4ac1-c438-95f65b44042e"
      },
      "outputs": [
        {
          "output_type": "execute_result",
          "data": {
            "text/plain": [
              "((6.5, 42), [38.057142857142864, 14.842285714285717, 0.7382142857142857])"
            ]
          },
          "metadata": {},
          "execution_count": 31
        }
      ],
      "source": [
        "max"
      ]
    },
    {
      "cell_type": "code",
      "execution_count": 31,
      "metadata": {
        "id": "DlhvTS67M5um"
      },
      "outputs": [],
      "source": [
        ""
      ]
    },
    {
      "cell_type": "markdown",
      "metadata": {
        "id": "_glpD0UQsnxH"
      },
      "source": [
        "## Delftacopter, hybrid single main rotor + anti-torque motors, biplane flying wing (1.54m x .65m)"
      ]
    },
    {
      "cell_type": "code",
      "execution_count": 32,
      "metadata": {
        "id": "DJODRAcFsuuK"
      },
      "outputs": [],
      "source": [
        "\n",
        "#  https://mavlab.tudelft.nl/delftacopter/\n",
        "\n",
        "\n",
        "d_copter = [\n",
        "    (0, 280),    \n",
        "    (18, 230),\n",
        "    (23.15, 300),\n",
        "    (25.72, 400)\n",
        "]"
      ]
    },
    {
      "cell_type": "code",
      "execution_count": 33,
      "metadata": {
        "colab": {
          "base_uri": "https://localhost:8080/"
        },
        "id": "ZEP2X-FFs0fT",
        "outputId": "3c1c3c86-1120-476c-bebc-1a85ac98c705"
      },
      "outputs": [
        {
          "output_type": "stream",
          "name": "stdout",
          "text": [
            "(0, 280) [38.57142857142858, 0.0, 0.0]\n",
            "(18, 230) [46.95652173913044, 50.713043478260865, 3.5217391304347827]\n",
            "(23.15, 300) [36.00000000000001, 50.004000000000005, 3.4725]\n",
            "(25.72, 400) [27.0, 41.6664, 2.8934999999999995]\n"
          ]
        }
      ],
      "source": [
        "output_list = []\n",
        "lower_bound = -10000\n",
        "\n",
        "\n",
        "\n",
        "for i in d_copter:\n",
        "    p = multi_specs(4.5, i[1] / 1000, i[0], (.225 * .8))\n",
        "    # 10k mah battery, 225 Wh\n",
        "    \n",
        "    if p[0] > lower_bound:\n",
        "        lower_bound = p[0]\n",
        "        max = (i,p)\n",
        "    else:\n",
        "        pass\n",
        "    output_list.append(p)\n",
        "    print(i, p)\n",
        "\n",
        "#  [endurance_time, distance, equiv_l_to_d]"
      ]
    },
    {
      "cell_type": "code",
      "execution_count": 34,
      "metadata": {
        "id": "yrq3VzUItsMu"
      },
      "outputs": [],
      "source": [
        "df = pd.DataFrame(d_copter, columns=['speed','watts'])"
      ]
    },
    {
      "cell_type": "code",
      "execution_count": 35,
      "metadata": {
        "colab": {
          "base_uri": "https://localhost:8080/",
          "height": 296
        },
        "id": "S64b3X95uaKP",
        "outputId": "8f5b91c0-5989-4898-84eb-b7a588c56659"
      },
      "outputs": [
        {
          "output_type": "execute_result",
          "data": {
            "text/plain": [
              "<matplotlib.axes._subplots.AxesSubplot at 0x7fb6515abe50>"
            ]
          },
          "metadata": {},
          "execution_count": 35
        },
        {
          "output_type": "display_data",
          "data": {
            "image/png": "[encoded data removed]",
            "text/plain": [
              "<Figure size 432x288 with 1 Axes>"
            ]
          },
          "metadata": {
            "needs_background": "light"
          }
        }
      ],
      "source": [
        "df.plot.scatter(x='speed', y='watts')"
      ]
    },
    {
      "cell_type": "code",
      "execution_count": 36,
      "metadata": {
        "colab": {
          "base_uri": "https://localhost:8080/"
        },
        "id": "EuEhlzH9ujAz",
        "outputId": "811620fe-6539-4698-90cd-0ff028c9ed76"
      },
      "outputs": [
        {
          "output_type": "execute_result",
          "data": {
            "text/plain": [
              "[[38.57142857142858, 0.0, 0.0],\n",
              " [46.95652173913044, 50.713043478260865, 3.5217391304347827],\n",
              " [36.00000000000001, 50.004000000000005, 3.4725],\n",
              " [27.0, 41.6664, 2.8934999999999995]]"
            ]
          },
          "metadata": {},
          "execution_count": 36
        }
      ],
      "source": [
        "output_list"
      ]
    },
    {
      "cell_type": "code",
      "execution_count": 37,
      "metadata": {
        "colab": {
          "base_uri": "https://localhost:8080/",
          "height": 174
        },
        "id": "2eJvYyZ4x76f",
        "outputId": "02e5610a-d95c-4d32-ee28-1eaa07a8de23"
      },
      "outputs": [
        {
          "output_type": "execute_result",
          "data": {
            "text/html": [
              "\n",
              "  <div id=\"df-9268f3ff-ae28-41a0-952a-af1df8c4a683\">\n",
              "    <div class=\"colab-df-container\">\n",
              "      <div>\n",
              "<style scoped>\n",
              "    .dataframe tbody tr th:only-of-type {\n",
              "        vertical-align: middle;\n",
              "    }\n",
              "\n",
              "    .dataframe tbody tr th {\n",
              "        vertical-align: top;\n",
              "    }\n",
              "\n",
              "    .dataframe thead th {\n",
              "        text-align: right;\n",
              "    }\n",
              "</style>\n",
              "<table border=\"1\" class=\"dataframe\">\n",
              "  <thead>\n",
              "    <tr style=\"text-align: right;\">\n",
              "      <th></th>\n",
              "      <th>endurance(mins)</th>\n",
              "      <th>range</th>\n",
              "      <th>l/d</th>\n",
              "    </tr>\n",
              "  </thead>\n",
              "  <tbody>\n",
              "    <tr>\n",
              "      <th>0</th>\n",
              "      <td>38.571429</td>\n",
              "      <td>0.000000</td>\n",
              "      <td>0.000000</td>\n",
              "    </tr>\n",
              "    <tr>\n",
              "      <th>1</th>\n",
              "      <td>46.956522</td>\n",
              "      <td>50.713043</td>\n",
              "      <td>3.521739</td>\n",
              "    </tr>\n",
              "    <tr>\n",
              "      <th>2</th>\n",
              "      <td>36.000000</td>\n",
              "      <td>50.004000</td>\n",
              "      <td>3.472500</td>\n",
              "    </tr>\n",
              "    <tr>\n",
              "      <th>3</th>\n",
              "      <td>27.000000</td>\n",
              "      <td>41.666400</td>\n",
              "      <td>2.893500</td>\n",
              "    </tr>\n",
              "  </tbody>\n",
              "</table>\n",
              "</div>\n",
              "      <button class=\"colab-df-convert\" onclick=\"convertToInteractive('df-9268f3ff-ae28-41a0-952a-af1df8c4a683')\"\n",
              "              title=\"Convert this dataframe to an interactive table.\"\n",
              "              style=\"display:none;\">\n",
              "        \n",
              "  <svg xmlns=\"http://www.w3.org/2000/svg\" height=\"24px\"viewBox=\"0 0 24 24\"\n",
              "       width=\"24px\">\n",
              "    <path d=\"M0 0h24v24H0V0z\" fill=\"none\"/>\n",
              "    <path d=\"M18.56 5.44l.94 2.06.94-2.06 2.06-.94-2.06-.94-.94-2.06-.94 2.06-2.06.94zm-11 1L8.5 8.5l.94-2.06 2.06-.94-2.06-.94L8.5 2.5l-.94 2.06-2.06.94zm10 10l.94 2.06.94-2.06 2.06-.94-2.06-.94-.94-2.06-.94 2.06-2.06.94z\"/><path d=\"M17.41 7.96l-1.37-1.37c-.4-.4-.92-.59-1.43-.59-.52 0-1.04.2-1.43.59L10.3 9.45l-7.72 7.72c-.78.78-.78 2.05 0 2.83L4 21.41c.39.39.9.59 1.41.59.51 0 1.02-.2 1.41-.59l7.78-7.78 2.81-2.81c.8-.78.8-2.07 0-2.86zM5.41 20L4 18.59l7.72-7.72 1.47 1.35L5.41 20z\"/>\n",
              "  </svg>\n",
              "      </button>\n",
              "      \n",
              "  <style>\n",
              "    .colab-df-container {\n",
              "      display:flex;\n",
              "      flex-wrap:wrap;\n",
              "      gap: 12px;\n",
              "    }\n",
              "\n",
              "    .colab-df-convert {\n",
              "      background-color: #E8F0FE;\n",
              "      border: none;\n",
              "      border-radius: 50%;\n",
              "      cursor: pointer;\n",
              "      display: none;\n",
              "      fill: #1967D2;\n",
              "      height: 32px;\n",
              "      padding: 0 0 0 0;\n",
              "      width: 32px;\n",
              "    }\n",
              "\n",
              "    .colab-df-convert:hover {\n",
              "      background-color: #E2EBFA;\n",
              "      box-shadow: 0px 1px 2px rgba(60, 64, 67, 0.3), 0px 1px 3px 1px rgba(60, 64, 67, 0.15);\n",
              "      fill: #174EA6;\n",
              "    }\n",
              "\n",
              "    [theme=dark] .colab-df-convert {\n",
              "      background-color: #3B4455;\n",
              "      fill: #D2E3FC;\n",
              "    }\n",
              "\n",
              "    [theme=dark] .colab-df-convert:hover {\n",
              "      background-color: #434B5C;\n",
              "      box-shadow: 0px 1px 3px 1px rgba(0, 0, 0, 0.15);\n",
              "      filter: drop-shadow(0px 1px 2px rgba(0, 0, 0, 0.3));\n",
              "      fill: #FFFFFF;\n",
              "    }\n",
              "  </style>\n",
              "\n",
              "      <script>\n",
              "        const buttonEl =\n",
              "          document.querySelector('#df-9268f3ff-ae28-41a0-952a-af1df8c4a683 button.colab-df-convert');\n",
              "        buttonEl.style.display =\n",
              "          google.colab.kernel.accessAllowed ? 'block' : 'none';\n",
              "\n",
              "        async function convertToInteractive(key) {\n",
              "          const element = document.querySelector('#df-9268f3ff-ae28-41a0-952a-af1df8c4a683');\n",
              "          const dataTable =\n",
              "            await google.colab.kernel.invokeFunction('convertToInteractive',\n",
              "                                                     [key], {});\n",
              "          if (!dataTable) return;\n",
              "\n",
              "          const docLinkHtml = 'Like what you see? Visit the ' +\n",
              "            '<a target=\"_blank\" href=https://colab.research.google.com/notebooks/data_table.ipynb>data table notebook</a>'\n",
              "            + ' to learn more about interactive tables.';\n",
              "          element.innerHTML = '';\n",
              "          dataTable['output_type'] = 'display_data';\n",
              "          await google.colab.output.renderOutput(dataTable, element);\n",
              "          const docLink = document.createElement('div');\n",
              "          docLink.innerHTML = docLinkHtml;\n",
              "          element.appendChild(docLink);\n",
              "        }\n",
              "      </script>\n",
              "    </div>\n",
              "  </div>\n",
              "  "
            ],
            "text/plain": [
              "   endurance(mins)      range       l/d\n",
              "0        38.571429   0.000000  0.000000\n",
              "1        46.956522  50.713043  3.521739\n",
              "2        36.000000  50.004000  3.472500\n",
              "3        27.000000  41.666400  2.893500"
            ]
          },
          "metadata": {},
          "execution_count": 37
        }
      ],
      "source": [
        "df_output = pd.DataFrame(output_list, columns=['endurance(mins)', 'range', 'l/d'])\n",
        "df_output"
      ]
    },
    {
      "cell_type": "code",
      "execution_count": 38,
      "metadata": {
        "colab": {
          "base_uri": "https://localhost:8080/",
          "height": 174
        },
        "id": "vKSL1zBvyD1_",
        "outputId": "4f1d1477-5b0f-49a3-9ad8-8f70d7ec20ea"
      },
      "outputs": [
        {
          "output_type": "execute_result",
          "data": {
            "text/html": [
              "\n",
              "  <div id=\"df-1e2573a8-fe65-472f-a487-81c585cd78f0\">\n",
              "    <div class=\"colab-df-container\">\n",
              "      <div>\n",
              "<style scoped>\n",
              "    .dataframe tbody tr th:only-of-type {\n",
              "        vertical-align: middle;\n",
              "    }\n",
              "\n",
              "    .dataframe tbody tr th {\n",
              "        vertical-align: top;\n",
              "    }\n",
              "\n",
              "    .dataframe thead th {\n",
              "        text-align: right;\n",
              "    }\n",
              "</style>\n",
              "<table border=\"1\" class=\"dataframe\">\n",
              "  <thead>\n",
              "    <tr style=\"text-align: right;\">\n",
              "      <th></th>\n",
              "      <th>speed</th>\n",
              "      <th>watts</th>\n",
              "      <th>endurance(mins)</th>\n",
              "      <th>range</th>\n",
              "      <th>l/d</th>\n",
              "    </tr>\n",
              "  </thead>\n",
              "  <tbody>\n",
              "    <tr>\n",
              "      <th>0</th>\n",
              "      <td>0.00</td>\n",
              "      <td>280</td>\n",
              "      <td>38.571429</td>\n",
              "      <td>0.000000</td>\n",
              "      <td>0.000000</td>\n",
              "    </tr>\n",
              "    <tr>\n",
              "      <th>1</th>\n",
              "      <td>18.00</td>\n",
              "      <td>230</td>\n",
              "      <td>46.956522</td>\n",
              "      <td>50.713043</td>\n",
              "      <td>3.521739</td>\n",
              "    </tr>\n",
              "    <tr>\n",
              "      <th>2</th>\n",
              "      <td>23.15</td>\n",
              "      <td>300</td>\n",
              "      <td>36.000000</td>\n",
              "      <td>50.004000</td>\n",
              "      <td>3.472500</td>\n",
              "    </tr>\n",
              "    <tr>\n",
              "      <th>3</th>\n",
              "      <td>25.72</td>\n",
              "      <td>400</td>\n",
              "      <td>27.000000</td>\n",
              "      <td>41.666400</td>\n",
              "      <td>2.893500</td>\n",
              "    </tr>\n",
              "  </tbody>\n",
              "</table>\n",
              "</div>\n",
              "      <button class=\"colab-df-convert\" onclick=\"convertToInteractive('df-1e2573a8-fe65-472f-a487-81c585cd78f0')\"\n",
              "              title=\"Convert this dataframe to an interactive table.\"\n",
              "              style=\"display:none;\">\n",
              "        \n",
              "  <svg xmlns=\"http://www.w3.org/2000/svg\" height=\"24px\"viewBox=\"0 0 24 24\"\n",
              "       width=\"24px\">\n",
              "    <path d=\"M0 0h24v24H0V0z\" fill=\"none\"/>\n",
              "    <path d=\"M18.56 5.44l.94 2.06.94-2.06 2.06-.94-2.06-.94-.94-2.06-.94 2.06-2.06.94zm-11 1L8.5 8.5l.94-2.06 2.06-.94-2.06-.94L8.5 2.5l-.94 2.06-2.06.94zm10 10l.94 2.06.94-2.06 2.06-.94-2.06-.94-.94-2.06-.94 2.06-2.06.94z\"/><path d=\"M17.41 7.96l-1.37-1.37c-.4-.4-.92-.59-1.43-.59-.52 0-1.04.2-1.43.59L10.3 9.45l-7.72 7.72c-.78.78-.78 2.05 0 2.83L4 21.41c.39.39.9.59 1.41.59.51 0 1.02-.2 1.41-.59l7.78-7.78 2.81-2.81c.8-.78.8-2.07 0-2.86zM5.41 20L4 18.59l7.72-7.72 1.47 1.35L5.41 20z\"/>\n",
              "  </svg>\n",
              "      </button>\n",
              "      \n",
              "  <style>\n",
              "    .colab-df-container {\n",
              "      display:flex;\n",
              "      flex-wrap:wrap;\n",
              "      gap: 12px;\n",
              "    }\n",
              "\n",
              "    .colab-df-convert {\n",
              "      background-color: #E8F0FE;\n",
              "      border: none;\n",
              "      border-radius: 50%;\n",
              "      cursor: pointer;\n",
              "      display: none;\n",
              "      fill: #1967D2;\n",
              "      height: 32px;\n",
              "      padding: 0 0 0 0;\n",
              "      width: 32px;\n",
              "    }\n",
              "\n",
              "    .colab-df-convert:hover {\n",
              "      background-color: #E2EBFA;\n",
              "      box-shadow: 0px 1px 2px rgba(60, 64, 67, 0.3), 0px 1px 3px 1px rgba(60, 64, 67, 0.15);\n",
              "      fill: #174EA6;\n",
              "    }\n",
              "\n",
              "    [theme=dark] .colab-df-convert {\n",
              "      background-color: #3B4455;\n",
              "      fill: #D2E3FC;\n",
              "    }\n",
              "\n",
              "    [theme=dark] .colab-df-convert:hover {\n",
              "      background-color: #434B5C;\n",
              "      box-shadow: 0px 1px 3px 1px rgba(0, 0, 0, 0.15);\n",
              "      filter: drop-shadow(0px 1px 2px rgba(0, 0, 0, 0.3));\n",
              "      fill: #FFFFFF;\n",
              "    }\n",
              "  </style>\n",
              "\n",
              "      <script>\n",
              "        const buttonEl =\n",
              "          document.querySelector('#df-1e2573a8-fe65-472f-a487-81c585cd78f0 button.colab-df-convert');\n",
              "        buttonEl.style.display =\n",
              "          google.colab.kernel.accessAllowed ? 'block' : 'none';\n",
              "\n",
              "        async function convertToInteractive(key) {\n",
              "          const element = document.querySelector('#df-1e2573a8-fe65-472f-a487-81c585cd78f0');\n",
              "          const dataTable =\n",
              "            await google.colab.kernel.invokeFunction('convertToInteractive',\n",
              "                                                     [key], {});\n",
              "          if (!dataTable) return;\n",
              "\n",
              "          const docLinkHtml = 'Like what you see? Visit the ' +\n",
              "            '<a target=\"_blank\" href=https://colab.research.google.com/notebooks/data_table.ipynb>data table notebook</a>'\n",
              "            + ' to learn more about interactive tables.';\n",
              "          element.innerHTML = '';\n",
              "          dataTable['output_type'] = 'display_data';\n",
              "          await google.colab.output.renderOutput(dataTable, element);\n",
              "          const docLink = document.createElement('div');\n",
              "          docLink.innerHTML = docLinkHtml;\n",
              "          element.appendChild(docLink);\n",
              "        }\n",
              "      </script>\n",
              "    </div>\n",
              "  </div>\n",
              "  "
            ],
            "text/plain": [
              "   speed  watts  endurance(mins)      range       l/d\n",
              "0   0.00    280        38.571429   0.000000  0.000000\n",
              "1  18.00    230        46.956522  50.713043  3.521739\n",
              "2  23.15    300        36.000000  50.004000  3.472500\n",
              "3  25.72    400        27.000000  41.666400  2.893500"
            ]
          },
          "metadata": {},
          "execution_count": 38
        }
      ],
      "source": [
        "result = pd.concat([df, df_output], axis=1)\n",
        "result"
      ]
    },
    {
      "cell_type": "code",
      "execution_count": 39,
      "metadata": {
        "colab": {
          "base_uri": "https://localhost:8080/",
          "height": 300
        },
        "id": "O1vy5py4yby_",
        "outputId": "8db25a21-7e10-4d97-c075-403a1da6e755"
      },
      "outputs": [
        {
          "output_type": "execute_result",
          "data": {
            "text/plain": [
              "<matplotlib.axes._subplots.AxesSubplot at 0x7fb650e53c50>"
            ]
          },
          "metadata": {},
          "execution_count": 39
        },
        {
          "output_type": "display_data",
          "data": {
            "image/png": "[encoded data removed]",
            "text/plain": [
              "<Figure size 432x288 with 1 Axes>"
            ]
          },
          "metadata": {
            "needs_background": "light"
          }
        }
      ],
      "source": [
        "result.plot(x='speed', y='range', ylim = (35,55))"
      ]
    },
    {
      "cell_type": "code",
      "execution_count": 39,
      "metadata": {
        "id": "4jM1wEWry-Hi"
      },
      "outputs": [],
      "source": [
        ""
      ]
    },
    {
      "cell_type": "markdown",
      "metadata": {
        "id": "KuHhCrFv6dus"
      },
      "source": [
        "## Google Wing"
      ]
    },
    {
      "cell_type": "code",
      "execution_count": 40,
      "metadata": {
        "colab": {
          "base_uri": "https://localhost:8080/",
          "height": 417
        },
        "id": "zFG5jhAe6gWM",
        "outputId": "f8baf381-c843-4cbb-9017-706ee2c0c88c"
      },
      "outputs": [
        {
          "output_type": "stream",
          "name": "stdout",
          "text": [
            "(2.112, 18.374858617923042, 6.312, 0.33, 0.3168) \n",
            "\n",
            "batt_mass:  2.11\n",
            "Range (mi):  18.37\n",
            "Gross_wt (kg):  6.31\n",
            "Batt_mass_fraction:  0.33\n",
            "batt_kWh:  0.32\n"
          ]
        },
        {
          "output_type": "display_data",
          "data": {
            "image/png": "[encoded data removed]",
            "text/plain": [
              "<Figure size 432x288 with 1 Axes>"
            ]
          },
          "metadata": {
            "needs_background": "light"
          }
        }
      ],
      "source": [
        "'''\n",
        "have mass and range radius need battery weight\n",
        "flight profile is more complex however as the mass\n",
        "changes as the payload is dropped off\n",
        "could run tests to calculate for that.\n",
        "\n",
        "Although if there was an issue or cancelled order the craft would have to bring the payload back so the real\n",
        "no hover for delivery range is probably closer to 20 miles, total guess.  By playing with this number \n",
        "it is clear if google could design a better L/D wing/structure they could vastly improve their range.\n",
        "\n",
        "We can see that the griflion has massive range comparatively although the missions are very different and \n",
        "Wing is optimised to survive engine out in hover\n",
        "with its 12 lift motors where Griflion only has 4,\n",
        "plus wing has a much longer hover duration as it winch lowers payload to ground.\n",
        "\n",
        "It is interesting to see the differences however in range being that both systems have roughly the same MTOW.\n",
        "\n",
        "should look up various qumultirotors to see \n",
        "how much power is normally needed to hover what kind of mass\n",
        "see if there is an easily linear relationship\n",
        "--> answer seems to be about 300-350 W/kg\n",
        "\n",
        "'''\n",
        "\n",
        "\n",
        "fractions = np.arange(.01, .99, .01)\n",
        "\n",
        "e_m = .9\n",
        "e_p = .85\n",
        "ld = 3\n",
        "e_batt = 150\n",
        "payload = (1.2)\n",
        "\n",
        "MTOW = (6.4) #5,000 lbs to KG\n",
        "\n",
        "w_test1 = MTOW * fractions[0]\n",
        "\n",
        "ranges = []\n",
        "\n",
        "for fraction in fractions:\n",
        "    w_batt = MTOW * fraction\n",
        "    w_empty = 3.0  #wing weight\n",
        "\n",
        "    if w_empty + w_batt + payload > (MTOW * .99):\n",
        "        break\n",
        "    else:\n",
        "        y = electric_range(e_m, e_p, ld, e_batt, w_batt, w_empty, payload)\n",
        "    \n",
        "        ranges.append((w_batt, y, (w_empty + w_batt + payload), fraction, (w_batt * e_batt) / 1000))\n",
        "\n",
        "print(ranges[-1],\"\\n\")\n",
        "\n",
        "x_val  = [x[0] for x in ranges]\n",
        "y_val  = [x[1] for x in ranges]\n",
        "y2_val = [x[2] for x in ranges]\n",
        "\n",
        "plt.plot(x_val,y_val)\n",
        "plt.plot(x_val,y_val,'*r')\n",
        "plt.title('GOOGLE WING')\n",
        "plt.ylabel('miles')\n",
        "plt.xlabel('batt_mass (kg)')\n",
        "plt.grid()\n",
        "\n",
        "labels = ['batt_mass: ', 'Range (mi): ', 'Gross_wt (kg): ', 'Batt_mass_fraction: ', 'batt_kWh: ']\n",
        "\n",
        "for x in range(len(labels)):\n",
        "    print(labels[x],(f\"{ranges[-1][x]:.2f}\"))"
      ]
    },
    {
      "cell_type": "code",
      "execution_count": 41,
      "metadata": {
        "id": "I7CdIA8R6g10"
      },
      "outputs": [],
      "source": [
        "# run different L/D ratios for Google Wing"
      ]
    },
    {
      "cell_type": "code",
      "execution_count": 41,
      "metadata": {
        "id": "1ulqV63a6hL8"
      },
      "outputs": [],
      "source": [
        ""
      ]
    },
    {
      "cell_type": "markdown",
      "metadata": {
        "id": "MMwzarRqHKrK"
      },
      "source": [
        "## Griflion M8, lift + cruise mapping drone"
      ]
    },
    {
      "cell_type": "code",
      "execution_count": 42,
      "metadata": {
        "colab": {
          "base_uri": "https://localhost:8080/",
          "height": 417
        },
        "id": "SfsyklHF6hcu",
        "outputId": "b2d14842-5a6f-4954-c0ff-a41d596e216d"
      },
      "outputs": [
        {
          "output_type": "stream",
          "name": "stdout",
          "text": [
            "(4.3199999999999985, 111.00852903646438, 11.819999999999999, 0.3599999999999999, 0.8639999999999997) \n",
            "\n",
            "batt_mass:  4.32\n",
            "Range (mi):  111.01\n",
            "Gross_wt (kg):  11.82\n",
            "Batt_mass_fraction:  0.36\n",
            "batt_kWh:  0.86\n"
          ]
        },
        {
          "output_type": "display_data",
          "data": {
            "image/png": "[encoded data removed]",
            "text/plain": [
              "<Figure size 432x288 with 1 Axes>"
            ]
          },
          "metadata": {
            "needs_background": "light"
          }
        }
      ],
      "source": [
        "#  MAPPING DRONE:  https://www.mmcuav.com/portfolio-items/griflion-m8/\n",
        "\n",
        "'''\n",
        "Could not achieve published ranges at 1kg payload mass, normal for most firms \n",
        "to display a maximum range at reduced payload fractions.\n",
        "\n",
        "To get much higher ranges L/D ratios would become unreasonably high for such a small wingspan\n",
        "normally, the maximum at this scale is around ~20:1.  This information is 'common knowledge'\n",
        "in the 4m Radio Controlled sailplane community.\n",
        "\n",
        "Although at higher wing loadings potentially high L/D ratios might be achievable at much higher\n",
        "cruising speeds\n",
        "'''\n",
        "\n",
        "\n",
        "fractions = np.arange(.1, .99, .01)\n",
        "\n",
        "e_m = .8  \n",
        "e_p = .7\n",
        "ld = 17  # L/D is enhanced on this craft by very high aspect ratio wings, payload is less than Google wing, diff mission though \n",
        "e_batt = 200  # Li-ion chems\n",
        "payload = (2)\n",
        "\n",
        "MTOW = (12) #KG\n",
        "\n",
        "w_test1 = MTOW * fractions[0]\n",
        "\n",
        "ranges = []\n",
        "\n",
        "for fraction in fractions:\n",
        "    w_batt = MTOW * fraction\n",
        "    w_empty = 5.5  # no batteries\n",
        "\n",
        "    if w_empty + w_batt + payload > (MTOW * .99):\n",
        "        break\n",
        "    else:\n",
        "        y = electric_range(e_m, e_p, ld, e_batt, w_batt, w_empty, payload)\n",
        "    \n",
        "        ranges.append((w_batt, y, (w_empty + w_batt + payload), fraction, (w_batt * e_batt) / 1000))\n",
        "\n",
        "print(ranges[-1],\"\\n\")\n",
        "\n",
        "x_val  = [x[0] for x in ranges]\n",
        "y_val  = [x[1] for x in ranges]\n",
        "y2_val = [x[2] for x in ranges]\n",
        "\n",
        "plt.plot(x_val,y_val)\n",
        "plt.plot(x_val,y_val,'*r')\n",
        "plt.title('GRIFLION M8')\n",
        "plt.ylabel('miles')\n",
        "plt.xlabel('batt_mass (kg)')\n",
        "plt.grid()\n",
        "\n",
        "labels = ['batt_mass: ', 'Range (mi): ', 'Gross_wt (kg): ', 'Batt_mass_fraction: ', 'batt_kWh: ']\n",
        "\n",
        "for x in range(len(labels)):\n",
        "    print(labels[x],(f\"{ranges[-1][x]:.2f}\"))"
      ]
    },
    {
      "cell_type": "markdown",
      "metadata": {
        "id": "kwavXzN3PMcC"
      },
      "source": [
        "### Griflion without Lift Motors and Arms"
      ]
    },
    {
      "cell_type": "code",
      "execution_count": 43,
      "metadata": {
        "colab": {
          "base_uri": "https://localhost:8080/",
          "height": 452
        },
        "id": "ikKlvlV96hmG",
        "outputId": "2e289931-a595-4594-ed9e-5bb445fc2b15"
      },
      "outputs": [
        {
          "output_type": "stream",
          "name": "stdout",
          "text": [
            "Lift System Removal Mass Savings:  1.65  kg\n",
            "\n",
            "(4.32, 151.78677924819348, 10.17, 0.9799999999999995, 0.864) \n",
            "\n",
            "batt_mass:  4.32\n",
            "Range (mi):  151.79\n",
            "Gross_wt (kg):  10.17\n",
            "Batt_mass_fraction:  0.98\n",
            "batt_kWh:  0.86\n"
          ]
        },
        {
          "output_type": "display_data",
          "data": {
            "image/png": "[encoded data removed]",
            "text/plain": [
              "<Figure size 432x288 with 1 Axes>"
            ]
          },
          "metadata": {
            "needs_background": "light"
          }
        }
      ],
      "source": [
        "'''\n",
        "Keeping same gross liftoff weight and batt_mass - lift motor mass and arm mass.\n",
        "MTOW could potentially be increased with rolling takeoffs\n",
        "\n",
        "Lift Motor:  .225 kg x 4\n",
        "Arm(s) mass:  .4 kg\n",
        "\n",
        "Looks like it extends the range by ~22%\n",
        "'''\n",
        "\n",
        "\n",
        "fractions = np.arange(.1, .99, .01)\n",
        "\n",
        "e_m = .8  \n",
        "e_p = .7\n",
        "ld = 20  # L/D is enhanced on this craft by very high aspect ratio wings, payload is less than Google wing, diff mission though \n",
        "e_batt = 200  # Li-ion chems\n",
        "payload = (2)\n",
        "\n",
        "MTOW = (12) #KG\n",
        "\n",
        "arm_weight = .75  #KG\n",
        "lift_motor_weight = .225\n",
        "\n",
        "print(\"Lift System Removal Mass Savings: \", arm_weight + (lift_motor_weight * 4), \" kg\\n\")\n",
        "\n",
        "ranges = []\n",
        "\n",
        "for fraction in fractions:\n",
        "    w_batt = MTOW * fraction\n",
        "    w_batt = 4.32\n",
        "    w_empty = 5.5 - arm_weight - (lift_motor_weight * 4)\n",
        "\n",
        "\n",
        "    if w_empty + w_batt + payload > (MTOW * .99):\n",
        "        break\n",
        "    else:\n",
        "        y = electric_range(e_m, e_p, ld, e_batt, w_batt, w_empty, payload)\n",
        "    \n",
        "        ranges.append((w_batt, y, (w_empty + w_batt + payload), fraction, (w_batt * e_batt) / 1000))\n",
        "\n",
        "print(ranges[-1],\"\\n\")\n",
        "\n",
        "x_val  = [x[0] for x in ranges]\n",
        "y_val  = [x[1] for x in ranges]\n",
        "y2_val = [x[2] for x in ranges]\n",
        "\n",
        "plt.plot(x_val,y_val)\n",
        "plt.plot(x_val,y_val,'*r')\n",
        "plt.title('GRIFLION M8')\n",
        "plt.ylabel('miles')\n",
        "plt.xlabel('batt_mass (kg)')\n",
        "plt.grid()\n",
        "\n",
        "labels = ['batt_mass: ', 'Range (mi): ', 'Gross_wt (kg): ', 'Batt_mass_fraction: ', 'batt_kWh: ']\n",
        "\n",
        "for x in range(len(labels)):\n",
        "    print(labels[x],(f\"{ranges[-1][x]:.2f}\"))"
      ]
    },
    {
      "cell_type": "code",
      "execution_count": 44,
      "metadata": {
        "colab": {
          "base_uri": "https://localhost:8080/"
        },
        "id": "JlaHEYpvPLk3",
        "outputId": "b064630c-07b8-4a31-c30c-02ff5ef5f54f"
      },
      "outputs": [
        {
          "output_type": "execute_result",
          "data": {
            "text/plain": [
              "0.36036036036036034"
            ]
          },
          "metadata": {},
          "execution_count": 44
        }
      ],
      "source": [
        "# Range extension without lift motors and arms\n",
        "\n",
        "(151-111) / 111"
      ]
    },
    {
      "cell_type": "markdown",
      "metadata": {
        "id": "qRCBXfs5OQLp"
      },
      "source": [
        "# \"Smart Rocks\" (guided mortars)"
      ]
    },
    {
      "cell_type": "code",
      "execution_count": 45,
      "metadata": {
        "colab": {
          "base_uri": "https://localhost:8080/"
        },
        "id": "6J4i_PT16huE",
        "outputId": "52c4a54d-69c5-4070-a154-4067f9d33595"
      },
      "outputs": [
        {
          "output_type": "stream",
          "name": "stdout",
          "text": [
            "\n"
          ]
        }
      ],
      "source": [
        "'''\n",
        "Could we just \"smart mortar\" payloads around a city instead of flying them around or some type of catapult.\n",
        "81mm mortar can throw 10 lb mortars 5k meters \n",
        "\n",
        "for example:\n",
        "  ACERM 81mm round has L/D ~6:1 to 9:1.  So by lofting to altitude many destinations could be within the glide radius.  \n",
        "  The vehicle could potentially be somewhat disposable or left curbside like rental scooters for later pickup\n",
        "  by third parties.  Wings and control surfaces would fold away into a more robust, roughly cylindrical-like shape.\n",
        "  High-G propellent launches could be mitigated by sled, cable, or alternative lower acceleration methods.\n",
        "\n",
        "\n",
        "\"the maximum L/D is not dependent on weight or wing loading, but with \n",
        "greater wing loading the maximum L/D occurs at a faster airspeed.\"\n",
        "\n",
        "\n",
        "'''\n",
        "print('')"
      ]
    },
    {
      "cell_type": "code",
      "execution_count": 45,
      "metadata": {
        "id": "wLt6rHos6h16"
      },
      "outputs": [],
      "source": [
        ""
      ]
    }
  ],
  "metadata": {
    "colab": {
      "collapsed_sections": [
        "1aBDEu-7MH9C",
        "UBYu-No7MTum",
        "hPyoF2iGMhGF",
        "2X8S9pLCMsEo",
        "usyKBdrYTXr3",
        "IpeHU0B9Kody",
        "d3iP2Cn76vzL",
        "yMrjs9ndKNu5",
        "WqIhrXBjK6rN",
        "_glpD0UQsnxH",
        "KuHhCrFv6dus",
        "MMwzarRqHKrK",
        "kwavXzN3PMcC",
        "qRCBXfs5OQLp"
      ],
      "name": "Electric_aircraft_range_explorations.ipynb",
      "provenance": [],
      "authorship_tag": "ABX9TyP+ayS08dHCNHbxP8764wk1",
      "include_colab_link": true
    },
    "kernelspec": {
      "display_name": "Python 3",
      "name": "python3"
    },
    "language_info": {
      "name": "python"
    }
  },
  "nbformat": 4,
  "nbformat_minor": 0
}